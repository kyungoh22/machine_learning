{
 "cells": [
  {
   "cell_type": "code",
   "execution_count": 77,
   "metadata": {},
   "outputs": [],
   "source": [
    "import numpy as np\n",
    "import pandas as pd\n",
    "import matplotlib.pyplot as plt\n",
    "import seaborn as sns\n",
    "from sklearn.linear_model import LinearRegression, Ridge, RidgeCV, Lasso, LassoCV, ElasticNet, ElasticNetCV\n",
    "from sklearn.metrics import mean_squared_error\n",
    "from sklearn.preprocessing import PolynomialFeatures, StandardScaler\n",
    "from sklearn.model_selection import train_test_split, cross_val_score, cross_validate\n"
   ]
  },
  {
   "cell_type": "code",
   "execution_count": 78,
   "metadata": {},
   "outputs": [],
   "source": [
    "df = pd.read_csv(\"AMES_Final_DF.csv\")\n",
    "X = df.drop('SalePrice', axis = 1)\n",
    "y = df['SalePrice']"
   ]
  },
  {
   "cell_type": "markdown",
   "metadata": {},
   "source": [
    "<h5> Summary so far </h5>\n",
    "\n",
    "For linear regression (with no polynomial features), our most accurate prediction came with Lasso regularisation with lambda = 120. The root mean squared error was 11.37% of the mean sales price. <br><br>\n",
    "\n",
    "Now we will try a polynomial fit"
   ]
  },
  {
   "cell_type": "markdown",
   "metadata": {},
   "source": [
    "<h5> Search for optimal polynomial degree </h5>"
   ]
  },
  {
   "cell_type": "markdown",
   "metadata": {},
   "source": [
    "<h5> Outline </h5>\n",
    "\n",
    "For the sake of expediency, we will plot the errors for different polynomial degrees with no regularisation. <br>\n",
    "Also, we will use a relatively small training set (around 500 samples)\n",
    "\n"
   ]
  },
  {
   "cell_type": "markdown",
   "metadata": {},
   "source": [
    "However, before starting with polynomial regression, we will try to reduce the number of features."
   ]
  },
  {
   "cell_type": "markdown",
   "metadata": {},
   "source": [
    "<h5> Reducing the Number of Features </h5>"
   ]
  },
  {
   "cell_type": "markdown",
   "metadata": {},
   "source": [
    "Create a correlation matrix. Then select only the features that correlate with the 'SalePrice' value by 0.3 or above."
   ]
  },
  {
   "cell_type": "code",
   "execution_count": 79,
   "metadata": {},
   "outputs": [],
   "source": [
    "corrM = df.corr()"
   ]
  },
  {
   "cell_type": "code",
   "execution_count": 80,
   "metadata": {},
   "outputs": [
    {
     "data": {
      "text/plain": [
       "Lot Frontage               True\n",
       "Lot Area                  False\n",
       "Overall Qual               True\n",
       "Overall Cond              False\n",
       "Year Built                 True\n",
       "                          ...  \n",
       "Sale Condition_AdjLand    False\n",
       "Sale Condition_Alloca     False\n",
       "Sale Condition_Family     False\n",
       "Sale Condition_Normal     False\n",
       "Sale Condition_Partial     True\n",
       "Name: SalePrice, Length: 274, dtype: bool"
      ]
     },
     "execution_count": 80,
     "metadata": {},
     "output_type": "execute_result"
    }
   ],
   "source": [
    "abs(corrM['SalePrice'])>0.3"
   ]
  },
  {
   "cell_type": "code",
   "execution_count": 81,
   "metadata": {},
   "outputs": [],
   "source": [
    "ser = abs(corrM['SalePrice'])>0.3"
   ]
  },
  {
   "cell_type": "code",
   "execution_count": 82,
   "metadata": {},
   "outputs": [
    {
     "data": {
      "text/plain": [
       "Index(['Lot Frontage', 'Overall Qual', 'Year Built', 'Year Remod/Add',\n",
       "       'Mas Vnr Area', 'BsmtFin SF 1', 'Total Bsmt SF', '1st Flr SF',\n",
       "       'Gr Liv Area', 'Full Bath', 'TotRms AbvGrd', 'Fireplaces',\n",
       "       'Garage Cars', 'Garage Area', 'Wood Deck SF', 'Open Porch SF',\n",
       "       'SalePrice', 'MS SubClass_60', 'Lot Shape_Reg', 'Neighborhood_NridgHt',\n",
       "       'Exterior 1st_VinylSd', 'Exterior 2nd_VinylSd', 'Mas Vnr Type_None',\n",
       "       'Mas Vnr Type_Stone', 'Exter Qual_Gd', 'Exter Qual_TA',\n",
       "       'Foundation_CBlock', 'Foundation_PConc', 'Bsmt Qual_TA',\n",
       "       'Bsmt Exposure_Gd', 'BsmtFin Type 1_GLQ', 'Heating QC_TA',\n",
       "       'Kitchen Qual_Gd', 'Kitchen Qual_TA', 'Fireplace Qu_Gd',\n",
       "       'Fireplace Qu_None', 'Garage Type_Attchd', 'Garage Type_Detchd',\n",
       "       'Garage Finish_Unf', 'Sale Type_New', 'Sale Condition_Partial'],\n",
       "      dtype='object')"
      ]
     },
     "execution_count": 82,
     "metadata": {},
     "output_type": "execute_result"
    }
   ],
   "source": [
    "# Get just true column labels\n",
    "ser[ser].index"
   ]
  },
  {
   "cell_type": "code",
   "execution_count": 83,
   "metadata": {},
   "outputs": [],
   "source": [
    "# Create subset of dataframe including only the selected features\n",
    "df_subset = df.loc[:, ser]"
   ]
  },
  {
   "cell_type": "code",
   "execution_count": 84,
   "metadata": {},
   "outputs": [
    {
     "data": {
      "text/plain": [
       "(2925, 41)"
      ]
     },
     "execution_count": 84,
     "metadata": {},
     "output_type": "execute_result"
    }
   ],
   "source": [
    "df_subset.shape"
   ]
  },
  {
   "cell_type": "markdown",
   "metadata": {},
   "source": [
    "Now we only have 41 features instead of 274 features. This will speed up the computation considerably when we work with polynomial features."
   ]
  },
  {
   "cell_type": "markdown",
   "metadata": {},
   "source": [
    "<h5> Predict and Evaluate for d = 2 </h5>"
   ]
  },
  {
   "cell_type": "code",
   "execution_count": 85,
   "metadata": {},
   "outputs": [],
   "source": [
    "# Create variables\n",
    "X = df_subset.drop('SalePrice', axis = 1)\n",
    "y = df_subset['SalePrice']"
   ]
  },
  {
   "cell_type": "code",
   "execution_count": 86,
   "metadata": {},
   "outputs": [],
   "source": [
    "polynomial_converter = PolynomialFeatures(degree=2,include_bias=False)\n",
    "poly_features = polynomial_converter.fit_transform(X)"
   ]
  },
  {
   "cell_type": "code",
   "execution_count": 87,
   "metadata": {},
   "outputs": [
    {
     "name": "stdout",
     "output_type": "stream",
     "text": [
      "training set size: 731 ||||| CV set size: 219\n"
     ]
    }
   ],
   "source": [
    "# Select smaller training and cv sets.\n",
    "\n",
    "X_train, X_dummy, y_train, y_dummy = train_test_split(poly_features, y, test_size=0.75, random_state=101)\n",
    "X_cv, X_test, y_cv, y_test = train_test_split (X_dummy, y_dummy, test_size = 0.9, random_state = 101)\n",
    "print (f'training set size: {len(X_train)} ||||| CV set size: {len(X_cv)}')\n"
   ]
  },
  {
   "cell_type": "code",
   "execution_count": 88,
   "metadata": {},
   "outputs": [],
   "source": [
    "# We will be working with X_train to train the model, and X_cv to compute the error"
   ]
  },
  {
   "cell_type": "code",
   "execution_count": 89,
   "metadata": {},
   "outputs": [],
   "source": [
    "# Scale X values\n",
    "scaler = StandardScaler()\n",
    "scaler.fit(X_train)\n",
    "scaled_X_train = scaler.transform(X_train)\n",
    "scaled_X_cv = scaler.transform(X_cv)"
   ]
  },
  {
   "cell_type": "code",
   "execution_count": 90,
   "metadata": {},
   "outputs": [],
   "source": [
    "model = Ridge(alpha = 100)\n",
    "model.fit(scaled_X_train, y_train)\n",
    "y_pred = model.predict(scaled_X_cv)\n",
    "MSE = mean_squared_error (y_pred, y_cv)\n",
    "RMSE = np.sqrt(MSE)\n",
    "error_pct = 100*RMSE / df_subset['SalePrice'].mean()"
   ]
  },
  {
   "cell_type": "markdown",
   "metadata": {},
   "source": [
    "<h5> Predict and Evaluate for multiple d's using for loop </h5>"
   ]
  },
  {
   "cell_type": "code",
   "execution_count": 91,
   "metadata": {},
   "outputs": [
    {
     "data": {
      "text/plain": [
       "\"\\n\\ndegrees = [2, 3, 4, 5, 6]\\nerrors = []\\nerror_percentages = []\\n\\nfor d in degrees: \\n\\n    X = df_subset.drop('SalePrice', axis = 1)\\n    y = df_subset['SalePrice']\\n    polynomial_converter = PolynomialFeatures(degree=d)\\n    poly_features = polynomial_converter.fit_transform(X)\\n\\n    # Select smaller training and cv sets.\\n\\n    X_train, X_dummy, y_train, y_dummy = train_test_split(poly_features, y, test_size=0.75, random_state=101)\\n    X_cv, X_test, y_cv, y_test = train_test_split (X_dummy, y_dummy, test_size = 0.9, random_state = 101)\\n\\n\\n\\n    # We will be working with X_train to train the model, and X_cv to compute the error\\n    # Scale X values\\n    scaler = StandardScaler()\\n    scaler.fit(X_train)\\n    scaled_X_train = scaler.transform(X_train)\\n    scaled_X_cv = scaler.transform(X_cv)\\n    len (scaled_X_train), len (y_train)\\n    model = Ridge(alpha = 100)\\n    model.fit(scaled_X_train, y_train)\\n    y_pred = model.predict(scaled_X_cv)\\n    MSE = mean_squared_error (y_pred, y_cv)\\n    RMSE = np.sqrt(MSE)\\n    error_pct = 100*RMSE / df_subset['SalePrice'].mean()\\n\\n    errors.append(RMSE)\\n    error_percentages.append(error_pct)\\n\\n\""
      ]
     },
     "execution_count": 91,
     "metadata": {},
     "output_type": "execute_result"
    }
   ],
   "source": [
    "\"\"\"\n",
    "\n",
    "degrees = [2, 3, 4, 5, 6]\n",
    "errors = []\n",
    "error_percentages = []\n",
    "\n",
    "for d in degrees: \n",
    "\n",
    "    X = df_subset.drop('SalePrice', axis = 1)\n",
    "    y = df_subset['SalePrice']\n",
    "    polynomial_converter = PolynomialFeatures(degree=d)\n",
    "    poly_features = polynomial_converter.fit_transform(X)\n",
    "\n",
    "    # Select smaller training and cv sets.\n",
    "\n",
    "    X_train, X_dummy, y_train, y_dummy = train_test_split(poly_features, y, test_size=0.75, random_state=101)\n",
    "    X_cv, X_test, y_cv, y_test = train_test_split (X_dummy, y_dummy, test_size = 0.9, random_state = 101)\n",
    "\n",
    "\n",
    "\n",
    "    # We will be working with X_train to train the model, and X_cv to compute the error\n",
    "    # Scale X values\n",
    "    scaler = StandardScaler()\n",
    "    scaler.fit(X_train)\n",
    "    scaled_X_train = scaler.transform(X_train)\n",
    "    scaled_X_cv = scaler.transform(X_cv)\n",
    "    len (scaled_X_train), len (y_train)\n",
    "    model = Ridge(alpha = 100)\n",
    "    model.fit(scaled_X_train, y_train)\n",
    "    y_pred = model.predict(scaled_X_cv)\n",
    "    MSE = mean_squared_error (y_pred, y_cv)\n",
    "    RMSE = np.sqrt(MSE)\n",
    "    error_pct = 100*RMSE / df_subset['SalePrice'].mean()\n",
    "\n",
    "    errors.append(RMSE)\n",
    "    error_percentages.append(error_pct)\n",
    "\n",
    "\"\"\"\n",
    "\n"
   ]
  },
  {
   "cell_type": "markdown",
   "metadata": {},
   "source": [
    "I'm getting an error message saying: <br>\n",
    "\"UserWarning: Singular matrix in solving dual problem. Using least-squares solution instead\" <br>\n",
    "This means I have more polyfeatures than training samples, which is not good. <br>\n",
    "I'll try to drastically reduce the number of features to something like 10 or 15."
   ]
  },
  {
   "cell_type": "code",
   "execution_count": 92,
   "metadata": {},
   "outputs": [
    {
     "data": {
      "text/plain": [
       "(2925, 23)"
      ]
     },
     "execution_count": 92,
     "metadata": {},
     "output_type": "execute_result"
    }
   ],
   "source": [
    "corrM = df.corr()\n",
    "abs(corrM['SalePrice'])>0.4\n",
    "ser = abs(corrM['SalePrice'])>0.4\n",
    "# Get just true column labels\n",
    "ser[ser].index\n",
    "# Create subset of dataframe including only the selected features\n",
    "df_subset = df.loc[:, ser]\n",
    "df_subset.shape"
   ]
  },
  {
   "cell_type": "markdown",
   "metadata": {},
   "source": [
    "Correlation of 0.5 or above reduces number of features to 15. <br>\n",
    "0.6 or above reduces features to 7. <br>\n",
    "Try with 15 first."
   ]
  },
  {
   "cell_type": "code",
   "execution_count": 93,
   "metadata": {},
   "outputs": [],
   "source": [
    "degrees = [1, 2, 3, 4, 5, 6]\n",
    "errors = []\n",
    "error_percentages = []\n",
    "\n",
    "for d in degrees: \n",
    "\n",
    "    X = df_subset.drop('SalePrice', axis = 1)\n",
    "    y = df_subset['SalePrice']\n",
    "    polynomial_converter = PolynomialFeatures(degree=d)\n",
    "    poly_features = polynomial_converter.fit_transform(X)\n",
    "\n",
    "    # Select smaller training and cv sets.\n",
    "\n",
    "    X_train, X_dummy, y_train, y_dummy = train_test_split(poly_features, y, test_size=0.75, random_state=101)\n",
    "    X_cv, X_test, y_cv, y_test = train_test_split (X_dummy, y_dummy, test_size = 0.9, random_state = 101)\n",
    "\n",
    "\n",
    "\n",
    "    # We will be working with X_train to train the model, and X_cv to compute the error\n",
    "    # Scale X values\n",
    "    scaler = StandardScaler()\n",
    "    scaler.fit(X_train)\n",
    "    scaled_X_train = scaler.transform(X_train)\n",
    "    scaled_X_cv = scaler.transform(X_cv)\n",
    "    len (scaled_X_train), len (y_train)\n",
    "    model = Ridge(alpha = 100)\n",
    "    model.fit(scaled_X_train, y_train)\n",
    "    y_pred = model.predict(scaled_X_cv)\n",
    "    MSE = mean_squared_error (y_pred, y_cv)\n",
    "    RMSE = np.sqrt(MSE)\n",
    "    error_pct = 100*RMSE / df_subset['SalePrice'].mean()\n",
    "\n",
    "    errors.append(RMSE)\n",
    "    error_percentages.append(error_pct)"
   ]
  },
  {
   "cell_type": "code",
   "execution_count": 94,
   "metadata": {},
   "outputs": [],
   "source": [
    "# Run time = 43 seconds for correlation of 0.4 or higher"
   ]
  },
  {
   "cell_type": "code",
   "execution_count": 95,
   "metadata": {},
   "outputs": [
    {
     "data": {
      "image/png": "[encoded data removed]",
      "text/plain": [
       "<Figure size 432x288 with 1 Axes>"
      ]
     },
     "metadata": {
      "needs_background": "light"
     },
     "output_type": "display_data"
    }
   ],
   "source": [
    "plt.plot(errors)\n",
    "plt.xticks(ticks = range(len(degrees)), labels = degrees)\n",
    "plt.show()"
   ]
  },
  {
   "cell_type": "code",
   "execution_count": 96,
   "metadata": {},
   "outputs": [
    {
     "data": {
      "image/png": "[encoded data removed]",
      "text/plain": [
       "<Figure size 432x288 with 1 Axes>"
      ]
     },
     "metadata": {
      "needs_background": "light"
     },
     "output_type": "display_data"
    }
   ],
   "source": [
    "plt.plot(error_percentages)\n",
    "plt.xticks(ticks = range(len(degrees)), labels = degrees)\n",
    "plt.show()"
   ]
  },
  {
   "cell_type": "code",
   "execution_count": 97,
   "metadata": {},
   "outputs": [],
   "source": [
    "# Second degree polynomial actually looks the best."
   ]
  },
  {
   "cell_type": "code",
   "execution_count": 98,
   "metadata": {},
   "outputs": [
    {
     "data": {
      "text/plain": [
       "[16.60843187027039,\n",
       " 13.61644626796085,\n",
       " 16.280086701867084,\n",
       " 25.58361941512367,\n",
       " 49.09851745517785,\n",
       " 106.28706133819792]"
      ]
     },
     "execution_count": 98,
     "metadata": {},
     "output_type": "execute_result"
    }
   ],
   "source": [
    "error_percentages"
   ]
  },
  {
   "cell_type": "markdown",
   "metadata": {},
   "source": [
    "We have determined that polynomial degree = 1, 2, 3 are three of the best candidates. <br>\n",
    "We've already trained and evaluated the best model for degree = 1. <br>\n",
    "Now let's move on to degrees 2 and 3. <br>"
   ]
  },
  {
   "cell_type": "markdown",
   "metadata": {},
   "source": [
    "Bear in mind that we've reduced the number of features to 23, using the correlation matrix. <br>\n",
    "Picked the features that correlate with price by 0.4 or higher."
   ]
  },
  {
   "cell_type": "markdown",
   "metadata": {},
   "source": [
    "<h4> Polynomial degree = 2 </h4>"
   ]
  },
  {
   "cell_type": "code",
   "execution_count": 99,
   "metadata": {},
   "outputs": [],
   "source": [
    "# Create variables \n",
    "X = df_subset.drop('SalePrice', axis = 1)\n",
    "y = df_subset['SalePrice']\n",
    "\n",
    "# Create polynomial features\n",
    "polynomial_converter = PolynomialFeatures(degree=2)\n",
    "poly_features = polynomial_converter.fit_transform(X)"
   ]
  },
  {
   "cell_type": "markdown",
   "metadata": {},
   "source": [
    "<h5> Ridge Regression </h5>"
   ]
  },
  {
   "cell_type": "markdown",
   "metadata": {},
   "source": [
    "We begin by trying to find a rough range of the optimal lambda value."
   ]
  },
  {
   "cell_type": "code",
   "execution_count": 100,
   "metadata": {},
   "outputs": [
    {
     "name": "stdout",
     "output_type": "stream",
     "text": [
      "training set size: 585 ||||| CV set size: 234\n"
     ]
    }
   ],
   "source": [
    "# Select small training set and cv set\n",
    "\n",
    "X_train, X_dummy, y_train, y_dummy = train_test_split(poly_features, y, test_size=0.8, random_state=101)\n",
    "X_cv, X_test, y_cv, y_test = train_test_split (X_dummy, y_dummy, test_size = 0.9, random_state = 101)\n",
    "print (f'training set size: {len(X_train)} ||||| CV set size: {len(X_cv)}')"
   ]
  },
  {
   "cell_type": "code",
   "execution_count": 101,
   "metadata": {},
   "outputs": [],
   "source": [
    "# Scale data\n",
    "scaler = StandardScaler()\n",
    "scaler.fit(X_train)\n",
    "scaled_X_train = scaler.transform(X_train)\n",
    "scaled_X_cv = scaler.transform(X_cv)"
   ]
  },
  {
   "cell_type": "code",
   "execution_count": 102,
   "metadata": {},
   "outputs": [
    {
     "data": {
      "image/png": "[encoded data removed]",
      "text/plain": [
       "<Figure size 432x288 with 1 Axes>"
      ]
     },
     "metadata": {
      "needs_background": "light"
     },
     "output_type": "display_data"
    }
   ],
   "source": [
    "# Plot training error and cv error for a range of lambda values\n",
    "\n",
    "alphas = [0, 0.01, 0.03, 0.1, 0.3, 1, 5, 10, 30, 100, 200, 500, 700, 1000, 2000, 3000, 5000, 10000,100000]\n",
    "training_errors = []\n",
    "cv_errors = []\n",
    "\n",
    "for alpha in alphas:\n",
    "    ridge_model = Ridge(alpha = alpha)          # create linear reg. model, specifying lambda\n",
    "\n",
    "    ridge_model.fit(scaled_X_train, y_train)    # train lin. reg. model to get theta parameters\n",
    "\n",
    "    y_pred_train = ridge_model.predict(scaled_X_train)  # use model to predict for training set\n",
    "    y_pred_cv = ridge_model.predict(scaled_X_cv)        # use model to predict for CV set\n",
    "\n",
    "    MSE_train = mean_squared_error (y_pred_train, y_train)\n",
    "    #RMSE_train = np.sqrt(MSE_train)\n",
    "\n",
    "    MSE_cv = mean_squared_error (y_pred_cv, y_cv)\n",
    "    #RMSE_cv = np.sqrt(MSE_cv)\n",
    "\n",
    "    training_errors.append(MSE_train)\n",
    "    cv_errors.append(MSE_cv)\n",
    "\n",
    "plt.plot(training_errors, label = 'training')\n",
    "plt.plot(cv_errors, label = 'cv')\n",
    "plt.xticks(ticks = range(len(alphas)), labels = alphas)\n",
    "plt.xticks(rotation = 90)\n",
    "plt.legend()\n",
    "plt.show()"
   ]
  },
  {
   "cell_type": "markdown",
   "metadata": {},
   "source": [
    "Optimal range seems to be between 0.5 and 500. Plot again with finer lambda density."
   ]
  },
  {
   "cell_type": "code",
   "execution_count": 103,
   "metadata": {},
   "outputs": [
    {
     "data": {
      "image/png": "[encoded data removed]",
      "text/plain": [
       "<Figure size 432x288 with 1 Axes>"
      ]
     },
     "metadata": {
      "needs_background": "light"
     },
     "output_type": "display_data"
    }
   ],
   "source": [
    "# Plot training error and cv error for a range of lambda values\n",
    "\n",
    "alphas = [1, 5, 10, 30, 50, 70, 100, 120, 140, 160, 180, 200]\n",
    "training_errors = []\n",
    "cv_errors = []\n",
    "\n",
    "for alpha in alphas:\n",
    "    ridge_model = Ridge(alpha = alpha)          # create linear reg. model, specifying lambda\n",
    "\n",
    "    ridge_model.fit(scaled_X_train, y_train)    # train lin. reg. model to get theta parameters\n",
    "\n",
    "    y_pred_train = ridge_model.predict(scaled_X_train)  # use model to predict for training set\n",
    "    y_pred_cv = ridge_model.predict(scaled_X_cv)        # use model to predict for CV set\n",
    "\n",
    "    MSE_train = mean_squared_error (y_pred_train, y_train)\n",
    "    #RMSE_train = np.sqrt(MSE_train)\n",
    "\n",
    "    MSE_cv = mean_squared_error (y_pred_cv, y_cv)\n",
    "    #RMSE_cv = np.sqrt(MSE_cv)\n",
    "\n",
    "    training_errors.append(MSE_train)\n",
    "    cv_errors.append(MSE_cv)\n",
    "\n",
    "plt.plot(training_errors, label = 'training')\n",
    "plt.plot(cv_errors, label = 'cv')\n",
    "plt.xticks(ticks = range(len(alphas)), labels = alphas)\n",
    "plt.xticks(rotation = 90)\n",
    "plt.legend()\n",
    "plt.show()"
   ]
  },
  {
   "cell_type": "markdown",
   "metadata": {},
   "source": [
    "The elbow actually seems to be in the region of 1 to 100. <br>\n",
    "Let's use a bigger training set now (80%) and use cross_val_score."
   ]
  },
  {
   "cell_type": "code",
   "execution_count": 104,
   "metadata": {},
   "outputs": [
    {
     "name": "stdout",
     "output_type": "stream",
     "text": [
      "training set size: 2340 ||||| CV set size: 585\n"
     ]
    }
   ],
   "source": [
    "# Split training / test set\n",
    "\n",
    "X_train, X_test, y_train, y_test = train_test_split(poly_features, y, test_size=0.2, random_state=101)\n",
    "\n",
    "print (f'training set size: {len(X_train)} ||||| CV set size: {len(X_test)}')"
   ]
  },
  {
   "cell_type": "code",
   "execution_count": 105,
   "metadata": {},
   "outputs": [],
   "source": [
    "# Scale data\n",
    "scaler = StandardScaler()\n",
    "scaler.fit(X_train)\n",
    "scaled_X_train = scaler.transform(X_train)\n",
    "scaled_X_test = scaler.transform(X_test)"
   ]
  },
  {
   "cell_type": "code",
   "execution_count": 106,
   "metadata": {},
   "outputs": [],
   "source": [
    "alphas = [10 + 2*i for i in range(100)]\n",
    "cv_errors = []\n",
    "for alpha in alphas:\n",
    "    model = Ridge(alpha = alpha)\n",
    "    scores = cross_val_score(model, scaled_X_train, y_train, scoring='neg_mean_squared_error',cv=5)\n",
    "    avg_score = abs(scores).mean()\n",
    "    cv_errors.append(avg_score)"
   ]
  },
  {
   "cell_type": "code",
   "execution_count": 107,
   "metadata": {},
   "outputs": [
    {
     "data": {
      "image/png": "[encoded data removed]",
      "text/plain": [
       "<Figure size 1080x360 with 1 Axes>"
      ]
     },
     "metadata": {
      "needs_background": "light"
     },
     "output_type": "display_data"
    }
   ],
   "source": [
    "plt.figure(figsize = (15,5))\n",
    "plt.plot(cv_errors)\n",
    "plt.xticks(ticks = range(len(alphas)), labels = alphas)\n",
    "plt.xticks(rotation = 90)\n",
    "plt.show()"
   ]
  },
  {
   "cell_type": "code",
   "execution_count": 108,
   "metadata": {},
   "outputs": [
    {
     "data": {
      "text/plain": [
       "(158, 590883162.8592854)"
      ]
     },
     "execution_count": 108,
     "metadata": {},
     "output_type": "execute_result"
    }
   ],
   "source": [
    "min_value = min(cv_errors)\n",
    "min_index = cv_errors.index(min_value)\n",
    "\n",
    "alphas[min_index], min_value"
   ]
  },
  {
   "cell_type": "markdown",
   "metadata": {},
   "source": [
    "lambda = 158 is our optimal value"
   ]
  },
  {
   "cell_type": "markdown",
   "metadata": {},
   "source": [
    "<h5> Create Model, Predict, Evaluate </h5>"
   ]
  },
  {
   "cell_type": "code",
   "execution_count": 109,
   "metadata": {},
   "outputs": [
    {
     "data": {
      "text/plain": [
       "13.589526551192785"
      ]
     },
     "execution_count": 109,
     "metadata": {},
     "output_type": "execute_result"
    }
   ],
   "source": [
    "# Create model\n",
    "model = Ridge (alpha = 158)\n",
    "model.fit(scaled_X_train, y_train)\n",
    "\n",
    "# Predict\n",
    "y_pred = model.predict(scaled_X_test)\n",
    "\n",
    "# Evaluate\n",
    "MSE = mean_squared_error(y_pred, y_test)\n",
    "RMSE = np.sqrt(MSE)\n",
    "100*RMSE / df['SalePrice'].mean()"
   ]
  },
  {
   "cell_type": "markdown",
   "metadata": {},
   "source": [
    "This fares quite a lot worse than the linear case. Expected, given that we selected only 23 features. <br>\n",
    "Let's try Lasso regularisation now.\n"
   ]
  },
  {
   "cell_type": "markdown",
   "metadata": {},
   "source": [
    "<h5> Lasso Regularisation </h5>"
   ]
  },
  {
   "cell_type": "code",
   "execution_count": 110,
   "metadata": {},
   "outputs": [
    {
     "name": "stdout",
     "output_type": "stream",
     "text": [
      "training set size: 585 ||||| CV set size: 234\n"
     ]
    }
   ],
   "source": [
    "# Select small training set and cv set\n",
    "\n",
    "X_train, X_dummy, y_train, y_dummy = train_test_split(poly_features, y, test_size=0.8, random_state=101)\n",
    "X_cv, X_test, y_cv, y_test = train_test_split (X_dummy, y_dummy, test_size = 0.9, random_state = 101)\n",
    "print (f'training set size: {len(X_train)} ||||| CV set size: {len(X_cv)}')"
   ]
  },
  {
   "cell_type": "code",
   "execution_count": 111,
   "metadata": {},
   "outputs": [],
   "source": [
    "# Scale data\n",
    "scaler = StandardScaler()\n",
    "scaler.fit(X_train)\n",
    "scaled_X_train = scaler.transform(X_train)\n",
    "scaled_X_cv = scaler.transform(X_cv)"
   ]
  },
  {
   "cell_type": "code",
   "execution_count": 112,
   "metadata": {},
   "outputs": [
    {
     "name": "stderr",
     "output_type": "stream",
     "text": [
      "/opt/anaconda3/lib/python3.9/site-packages/sklearn/linear_model/_coordinate_descent.py:530: ConvergenceWarning: Objective did not converge. You might want to increase the number of iterations. Duality gap: 60154615906.78511, tolerance: 395987200.9029727\n",
      "  model = cd_fast.enet_coordinate_descent(\n",
      "/opt/anaconda3/lib/python3.9/site-packages/sklearn/linear_model/_coordinate_descent.py:530: ConvergenceWarning: Objective did not converge. You might want to increase the number of iterations. Duality gap: 28950701159.3403, tolerance: 395987200.9029727\n",
      "  model = cd_fast.enet_coordinate_descent(\n",
      "/opt/anaconda3/lib/python3.9/site-packages/sklearn/linear_model/_coordinate_descent.py:530: ConvergenceWarning: Objective did not converge. You might want to increase the number of iterations. Duality gap: 2494878261.3616333, tolerance: 395987200.9029727\n",
      "  model = cd_fast.enet_coordinate_descent(\n"
     ]
    },
    {
     "data": {
      "image/png": "[encoded data removed]",
      "text/plain": [
       "<Figure size 432x288 with 1 Axes>"
      ]
     },
     "metadata": {
      "needs_background": "light"
     },
     "output_type": "display_data"
    }
   ],
   "source": [
    "# Plot training error and cv error for a range of lambda values\n",
    "\n",
    "alphas = [1, 5, 10, 30, 100, 200, 500, 700, 1000, 2000, 3000, 5000, 6000, 7000, 8000, 9000, 10000]\n",
    "training_errors = []\n",
    "cv_errors = []\n",
    "\n",
    "for alpha in alphas:\n",
    "    lasso_model = Lasso(alpha = alpha, max_iter= 20000)          # create linear reg. model, specifying lambda\n",
    "\n",
    "    lasso_model.fit(scaled_X_train, y_train)    # train lin. reg. model to get theta parameters\n",
    "\n",
    "    y_pred_train = lasso_model.predict(scaled_X_train)  # use model to predict for training set\n",
    "    y_pred_cv = lasso_model.predict(scaled_X_cv)        # use model to predict for CV set\n",
    "\n",
    "    MSE_train = mean_squared_error (y_pred_train, y_train)\n",
    "    #RMSE_train = np.sqrt(MSE_train)\n",
    "\n",
    "    MSE_cv = mean_squared_error (y_pred_cv, y_cv)\n",
    "    #RMSE_cv = np.sqrt(MSE_cv)\n",
    "\n",
    "    training_errors.append(MSE_train)\n",
    "    cv_errors.append(MSE_cv)\n",
    "\n",
    "plt.plot(training_errors, label = 'training')\n",
    "plt.plot(cv_errors, label = 'cv')\n",
    "plt.xticks(ticks = range(len(alphas)), labels = alphas)\n",
    "plt.xticks(rotation = 90)\n",
    "plt.legend()\n",
    "plt.show()"
   ]
  },
  {
   "cell_type": "markdown",
   "metadata": {},
   "source": [
    "Optimal lambda value in the area of 30 to 700"
   ]
  },
  {
   "cell_type": "code",
   "execution_count": 113,
   "metadata": {},
   "outputs": [
    {
     "name": "stderr",
     "output_type": "stream",
     "text": [
      "/opt/anaconda3/lib/python3.9/site-packages/sklearn/linear_model/_coordinate_descent.py:530: ConvergenceWarning: Objective did not converge. You might want to increase the number of iterations. Duality gap: 916657983.8625488, tolerance: 395987200.9029727\n",
      "  model = cd_fast.enet_coordinate_descent(\n"
     ]
    }
   ],
   "source": [
    "# Plot training error and cv error for a range of lambda values\n",
    "\n",
    "alphas = [30 + 30*i for i in range (30)]\n",
    "training_errors = []\n",
    "cv_errors = []\n",
    "\n",
    "for alpha in alphas:\n",
    "    lasso_model = Lasso(alpha = alpha, max_iter= 10000)          # create linear reg. model, specifying lambda\n",
    "\n",
    "    lasso_model.fit(scaled_X_train, y_train)    # train lin. reg. model to get theta parameters\n",
    "\n",
    "    y_pred_train = lasso_model.predict(scaled_X_train)  # use model to predict for training set\n",
    "    y_pred_cv = lasso_model.predict(scaled_X_cv)        # use model to predict for CV set\n",
    "\n",
    "    MSE_train = mean_squared_error (y_pred_train, y_train)\n",
    "    #RMSE_train = np.sqrt(MSE_train)\n",
    "\n",
    "    MSE_cv = mean_squared_error (y_pred_cv, y_cv)\n",
    "    #RMSE_cv = np.sqrt(MSE_cv)\n",
    "\n",
    "    training_errors.append(MSE_train)\n",
    "    cv_errors.append(MSE_cv)"
   ]
  },
  {
   "cell_type": "code",
   "execution_count": 114,
   "metadata": {},
   "outputs": [
    {
     "data": {
      "image/png": "[encoded data removed]",
      "text/plain": [
       "<Figure size 720x360 with 1 Axes>"
      ]
     },
     "metadata": {
      "needs_background": "light"
     },
     "output_type": "display_data"
    }
   ],
   "source": [
    "plt.figure(figsize = (10,5))\n",
    "plt.plot(training_errors, label = 'training')\n",
    "plt.plot(cv_errors, label = 'cv')\n",
    "plt.xticks(ticks = range(len(alphas)), labels = alphas)\n",
    "plt.xticks(rotation = 90)\n",
    "plt.legend()\n",
    "plt.show()"
   ]
  },
  {
   "cell_type": "markdown",
   "metadata": {},
   "source": [
    "Optimal range is from 150 to 450 <br>\n",
    "Now let's go back to full data set and use cross_val_score"
   ]
  },
  {
   "cell_type": "code",
   "execution_count": 115,
   "metadata": {},
   "outputs": [
    {
     "name": "stdout",
     "output_type": "stream",
     "text": [
      "training set size: 2340 ||||| CV set size: 585\n"
     ]
    },
    {
     "name": "stderr",
     "output_type": "stream",
     "text": [
      "/opt/anaconda3/lib/python3.9/site-packages/sklearn/linear_model/_coordinate_descent.py:530: ConvergenceWarning: Objective did not converge. You might want to increase the number of iterations. Duality gap: 38310737131.84131, tolerance: 1224739592.9081283\n",
      "  model = cd_fast.enet_coordinate_descent(\n",
      "/opt/anaconda3/lib/python3.9/site-packages/sklearn/linear_model/_coordinate_descent.py:530: ConvergenceWarning: Objective did not converge. You might want to increase the number of iterations. Duality gap: 16149786506.117065, tolerance: 1141339719.2048666\n",
      "  model = cd_fast.enet_coordinate_descent(\n",
      "/opt/anaconda3/lib/python3.9/site-packages/sklearn/linear_model/_coordinate_descent.py:530: ConvergenceWarning: Objective did not converge. You might want to increase the number of iterations. Duality gap: 33353065376.04883, tolerance: 1258024151.8452046\n",
      "  model = cd_fast.enet_coordinate_descent(\n",
      "/opt/anaconda3/lib/python3.9/site-packages/sklearn/linear_model/_coordinate_descent.py:530: ConvergenceWarning: Objective did not converge. You might want to increase the number of iterations. Duality gap: 12680631155.57544, tolerance: 1254418011.4398155\n",
      "  model = cd_fast.enet_coordinate_descent(\n",
      "/opt/anaconda3/lib/python3.9/site-packages/sklearn/linear_model/_coordinate_descent.py:530: ConvergenceWarning: Objective did not converge. You might want to increase the number of iterations. Duality gap: 3407773089.32251, tolerance: 1199366769.3089993\n",
      "  model = cd_fast.enet_coordinate_descent(\n",
      "/opt/anaconda3/lib/python3.9/site-packages/sklearn/linear_model/_coordinate_descent.py:530: ConvergenceWarning: Objective did not converge. You might want to increase the number of iterations. Duality gap: 6339091935.884399, tolerance: 1224739592.9081283\n",
      "  model = cd_fast.enet_coordinate_descent(\n",
      "/opt/anaconda3/lib/python3.9/site-packages/sklearn/linear_model/_coordinate_descent.py:530: ConvergenceWarning: Objective did not converge. You might want to increase the number of iterations. Duality gap: 10431884621.793701, tolerance: 1141339719.2048666\n",
      "  model = cd_fast.enet_coordinate_descent(\n",
      "/opt/anaconda3/lib/python3.9/site-packages/sklearn/linear_model/_coordinate_descent.py:530: ConvergenceWarning: Objective did not converge. You might want to increase the number of iterations. Duality gap: 4435863144.414551, tolerance: 1258024151.8452046\n",
      "  model = cd_fast.enet_coordinate_descent(\n",
      "/opt/anaconda3/lib/python3.9/site-packages/sklearn/linear_model/_coordinate_descent.py:530: ConvergenceWarning: Objective did not converge. You might want to increase the number of iterations. Duality gap: 2982802755.968384, tolerance: 1254418011.4398155\n",
      "  model = cd_fast.enet_coordinate_descent(\n",
      "/opt/anaconda3/lib/python3.9/site-packages/sklearn/linear_model/_coordinate_descent.py:530: ConvergenceWarning: Objective did not converge. You might want to increase the number of iterations. Duality gap: 2378967397.38916, tolerance: 1224739592.9081283\n",
      "  model = cd_fast.enet_coordinate_descent(\n",
      "/opt/anaconda3/lib/python3.9/site-packages/sklearn/linear_model/_coordinate_descent.py:530: ConvergenceWarning: Objective did not converge. You might want to increase the number of iterations. Duality gap: 4222719602.168579, tolerance: 1141339719.2048666\n",
      "  model = cd_fast.enet_coordinate_descent(\n",
      "/opt/anaconda3/lib/python3.9/site-packages/sklearn/linear_model/_coordinate_descent.py:530: ConvergenceWarning: Objective did not converge. You might want to increase the number of iterations. Duality gap: 3396056557.9245605, tolerance: 1258024151.8452046\n",
      "  model = cd_fast.enet_coordinate_descent(\n",
      "/opt/anaconda3/lib/python3.9/site-packages/sklearn/linear_model/_coordinate_descent.py:530: ConvergenceWarning: Objective did not converge. You might want to increase the number of iterations. Duality gap: 2156609666.9224854, tolerance: 1141339719.2048666\n",
      "  model = cd_fast.enet_coordinate_descent(\n",
      "/opt/anaconda3/lib/python3.9/site-packages/sklearn/linear_model/_coordinate_descent.py:530: ConvergenceWarning: Objective did not converge. You might want to increase the number of iterations. Duality gap: 1328793226.2944336, tolerance: 1258024151.8452046\n",
      "  model = cd_fast.enet_coordinate_descent(\n"
     ]
    },
    {
     "data": {
      "image/png": "[encoded data removed]",
      "text/plain": [
       "<Figure size 1080x360 with 1 Axes>"
      ]
     },
     "metadata": {
      "needs_background": "light"
     },
     "output_type": "display_data"
    }
   ],
   "source": [
    "# Split training / test\n",
    "\n",
    "X_train, X_test, y_train, y_test = train_test_split(poly_features, y, test_size=0.2, random_state=101)\n",
    "\n",
    "print (f'training set size: {len(X_train)} ||||| CV set size: {len(X_test)}')\n",
    "\n",
    "# Scale data\n",
    "scaler = StandardScaler()\n",
    "scaler.fit(X_train)\n",
    "scaled_X_train = scaler.transform(X_train)\n",
    "scaled_X_test = scaler.transform(X_test)\n",
    "\n",
    "# Compute errors for range of lambda values\n",
    "alphas = [100 + 20*i for i in range(15)]\n",
    "cv_errors = []\n",
    "for alpha in alphas:\n",
    "    model = Lasso(alpha = alpha)\n",
    "    scores = cross_val_score(model, scaled_X_train, y_train, scoring='neg_mean_squared_error',cv=5)\n",
    "    avg_score = abs(scores).mean()\n",
    "    cv_errors.append(avg_score)\n",
    "\n",
    "# Plot\n",
    "plt.figure(figsize = (15,5))\n",
    "plt.plot(cv_errors)\n",
    "plt.xticks(ticks = range(len(alphas)), labels = alphas)\n",
    "plt.xticks(rotation = 90)\n",
    "plt.show()"
   ]
  },
  {
   "cell_type": "code",
   "execution_count": 116,
   "metadata": {},
   "outputs": [
    {
     "name": "stdout",
     "output_type": "stream",
     "text": [
      "training set size: 2340 ||||| CV set size: 585\n"
     ]
    },
    {
     "data": {
      "image/png": "[encoded data removed]",
      "text/plain": [
       "<Figure size 1080x360 with 1 Axes>"
      ]
     },
     "metadata": {
      "needs_background": "light"
     },
     "output_type": "display_data"
    }
   ],
   "source": [
    "# Select small training set and cv set\n",
    "\n",
    "X_train, X_test, y_train, y_test = train_test_split(poly_features, y, test_size=0.2, random_state=101)\n",
    "\n",
    "print (f'training set size: {len(X_train)} ||||| CV set size: {len(X_test)}')\n",
    "\n",
    "# Scale data\n",
    "scaler = StandardScaler()\n",
    "scaler.fit(X_train)\n",
    "scaled_X_train = scaler.transform(X_train)\n",
    "scaled_X_test = scaler.transform(X_test)\n",
    "\n",
    "# Compute errors for range of lambda values\n",
    "alphas = [200 + 2*i for i in range(30)]\n",
    "cv_errors = []\n",
    "for alpha in alphas:\n",
    "    model = Lasso(alpha = alpha)\n",
    "    scores = cross_val_score(model, scaled_X_train, y_train, scoring='neg_mean_squared_error',cv=5)\n",
    "    avg_score = abs(scores).mean()\n",
    "    cv_errors.append(avg_score)\n",
    "\n",
    "# Plot\n",
    "plt.figure(figsize = (15,5))\n",
    "plt.plot(cv_errors)\n",
    "plt.xticks(ticks = range(len(alphas)), labels = alphas)\n",
    "plt.xticks(rotation = 90)\n",
    "plt.show()"
   ]
  },
  {
   "cell_type": "markdown",
   "metadata": {},
   "source": [
    "lambda = 234 seems to be optimal"
   ]
  },
  {
   "cell_type": "markdown",
   "metadata": {},
   "source": [
    "<h5> Create model, predict, evaluate </h5>"
   ]
  },
  {
   "cell_type": "code",
   "execution_count": 117,
   "metadata": {},
   "outputs": [
    {
     "data": {
      "text/plain": [
       "13.75"
      ]
     },
     "execution_count": 117,
     "metadata": {},
     "output_type": "execute_result"
    }
   ],
   "source": [
    "# Create model\n",
    "model = Lasso (alpha = 234)\n",
    "model.fit(scaled_X_train, y_train)\n",
    "\n",
    "# Predict\n",
    "y_pred = model.predict(scaled_X_test)\n",
    "\n",
    "# Evaluate\n",
    "MSE = mean_squared_error(y_pred, y_test)\n",
    "RMSE = np.sqrt(MSE)\n",
    "round (100*RMSE / df['SalePrice'].mean(), 2)"
   ]
  },
  {
   "cell_type": "markdown",
   "metadata": {},
   "source": [
    "As expected, the accuracy is similar to Ridge regression"
   ]
  },
  {
   "cell_type": "markdown",
   "metadata": {},
   "source": [
    "Let's repeat the same procedure for polynomial degree = 3. <br>\n",
    "After that, we can perhaps increase the number of features we include."
   ]
  },
  {
   "cell_type": "markdown",
   "metadata": {},
   "source": [
    "<h4> Polynomial Degree = 3 </h4>"
   ]
  },
  {
   "cell_type": "code",
   "execution_count": 118,
   "metadata": {},
   "outputs": [],
   "source": [
    "# Create variables \n",
    "X = df_subset.drop('SalePrice', axis = 1)\n",
    "y = df_subset['SalePrice']\n",
    "\n",
    "# Create polynomial features\n",
    "polynomial_converter = PolynomialFeatures(degree=3)\n",
    "poly_features = polynomial_converter.fit_transform(X)"
   ]
  },
  {
   "cell_type": "markdown",
   "metadata": {},
   "source": [
    "We begin by trying to find a rough range of the optimal lambda value."
   ]
  },
  {
   "cell_type": "code",
   "execution_count": 119,
   "metadata": {},
   "outputs": [
    {
     "name": "stdout",
     "output_type": "stream",
     "text": [
      "training set size: 585 ||||| CV set size: 234\n"
     ]
    }
   ],
   "source": [
    "# Select small training set and cv set\n",
    "\n",
    "X_train, X_dummy, y_train, y_dummy = train_test_split(poly_features, y, test_size=0.8, random_state=101)\n",
    "X_cv, X_test, y_cv, y_test = train_test_split (X_dummy, y_dummy, test_size = 0.9, random_state = 101)\n",
    "print (f'training set size: {len(X_train)} ||||| CV set size: {len(X_cv)}')\n",
    "\n",
    "# Scale data\n",
    "scaler = StandardScaler()\n",
    "scaler.fit(X_train)\n",
    "scaled_X_train = scaler.transform(X_train)\n",
    "scaled_X_cv = scaler.transform(X_cv)"
   ]
  },
  {
   "cell_type": "code",
   "execution_count": 120,
   "metadata": {},
   "outputs": [],
   "source": [
    "# Plot training error and cv error for a range of lambda values\n",
    "\n",
    "alphas = [1, 5, 10, 30, 100, 200, 500, 700, 1000, 2000, 3000, 5000, 10000,100000]\n",
    "training_errors = []\n",
    "cv_errors = []\n",
    "\n",
    "for alpha in alphas:\n",
    "    ridge_model = Ridge(alpha = alpha)          # create linear reg. model, specifying lambda\n",
    "\n",
    "    ridge_model.fit(scaled_X_train, y_train)    # train lin. reg. model to get theta parameters\n",
    "\n",
    "    y_pred_train = ridge_model.predict(scaled_X_train)  # use model to predict for training set\n",
    "    y_pred_cv = ridge_model.predict(scaled_X_cv)        # use model to predict for CV set\n",
    "\n",
    "    MSE_train = mean_squared_error (y_pred_train, y_train)\n",
    "    #RMSE_train = np.sqrt(MSE_train)\n",
    "\n",
    "    MSE_cv = mean_squared_error (y_pred_cv, y_cv)\n",
    "    #RMSE_cv = np.sqrt(MSE_cv)\n",
    "\n",
    "    training_errors.append(MSE_train)\n",
    "    cv_errors.append(MSE_cv)"
   ]
  },
  {
   "cell_type": "code",
   "execution_count": 121,
   "metadata": {},
   "outputs": [
    {
     "data": {
      "image/png": "[encoded data removed]",
      "text/plain": [
       "<Figure size 432x288 with 1 Axes>"
      ]
     },
     "metadata": {
      "needs_background": "light"
     },
     "output_type": "display_data"
    }
   ],
   "source": [
    "plt.plot(training_errors, label = 'training')\n",
    "plt.plot(cv_errors, label = 'cv')\n",
    "plt.xticks(ticks = range(len(alphas)), labels = alphas)\n",
    "plt.xticks(rotation = 90)\n",
    "plt.legend()\n",
    "plt.show()"
   ]
  },
  {
   "cell_type": "markdown",
   "metadata": {},
   "source": [
    "Try again with lambda from 30 to 3000"
   ]
  },
  {
   "cell_type": "code",
   "execution_count": 122,
   "metadata": {},
   "outputs": [
    {
     "data": {
      "image/png": "[encoded data removed]",
      "text/plain": [
       "<Figure size 720x360 with 1 Axes>"
      ]
     },
     "metadata": {
      "needs_background": "light"
     },
     "output_type": "display_data"
    }
   ],
   "source": [
    "# Plot training error and cv error for a range of lambda values\n",
    "\n",
    "alphas = [30, 50, 100, 200,300, 400, 500,600, 700,800,900, 1000]\n",
    "training_errors = []\n",
    "cv_errors = []\n",
    "\n",
    "for alpha in alphas:\n",
    "    ridge_model = Ridge(alpha = alpha)          # create linear reg. model, specifying lambda\n",
    "\n",
    "    ridge_model.fit(scaled_X_train, y_train)    # train lin. reg. model to get theta parameters\n",
    "\n",
    "    y_pred_train = ridge_model.predict(scaled_X_train)  # use model to predict for training set\n",
    "    y_pred_cv = ridge_model.predict(scaled_X_cv)        # use model to predict for CV set\n",
    "\n",
    "    MSE_train = mean_squared_error (y_pred_train, y_train)\n",
    "    #RMSE_train = np.sqrt(MSE_train)\n",
    "\n",
    "    MSE_cv = mean_squared_error (y_pred_cv, y_cv)\n",
    "    #RMSE_cv = np.sqrt(MSE_cv)\n",
    "\n",
    "    training_errors.append(MSE_train)\n",
    "    cv_errors.append(MSE_cv)\n",
    "\n",
    "plt.figure(figsize = (10,5))\n",
    "plt.plot(training_errors, label = 'training')\n",
    "plt.plot(cv_errors, label = 'cv')\n",
    "plt.xticks(ticks = range(len(alphas)), labels = alphas)\n",
    "plt.xticks(rotation = 90)\n",
    "plt.legend()\n",
    "plt.show()"
   ]
  },
  {
   "cell_type": "markdown",
   "metadata": {},
   "source": [
    "Optimal range: 100 to 400. <br>\n",
    "Now use entire training set to find optimal value"
   ]
  },
  {
   "cell_type": "code",
   "execution_count": 123,
   "metadata": {},
   "outputs": [
    {
     "name": "stdout",
     "output_type": "stream",
     "text": [
      "training set size: 2340 ||||| CV set size: 585\n"
     ]
    }
   ],
   "source": [
    "# Split training / test set\n",
    "\n",
    "X_train, X_test, y_train, y_test = train_test_split(poly_features, y, test_size=0.2, random_state=101)\n",
    "\n",
    "print (f'training set size: {len(X_train)} ||||| CV set size: {len(X_test)}')\n",
    "\n",
    "# Scale data\n",
    "scaler = StandardScaler()\n",
    "scaler.fit(X_train)\n",
    "scaled_X_train = scaler.transform(X_train)\n",
    "scaled_X_test = scaler.transform(X_test)\n",
    "\n",
    "alphas = [100 + 120*i for i in range(15)]\n",
    "cv_errors = []\n",
    "for alpha in alphas:\n",
    "    model = Ridge(alpha = alpha)\n",
    "    scores = cross_val_score(model, scaled_X_train, y_train, scoring='neg_mean_squared_error',cv=5)\n",
    "    avg_score = abs(scores).mean()\n",
    "    cv_errors.append(avg_score)"
   ]
  },
  {
   "cell_type": "code",
   "execution_count": 124,
   "metadata": {},
   "outputs": [
    {
     "data": {
      "image/png": "[encoded data removed]",
      "text/plain": [
       "<Figure size 1080x360 with 1 Axes>"
      ]
     },
     "metadata": {
      "needs_background": "light"
     },
     "output_type": "display_data"
    }
   ],
   "source": [
    "plt.figure(figsize = (15,5))\n",
    "plt.plot(cv_errors)\n",
    "plt.xticks(ticks = range(len(alphas)), labels = alphas)\n",
    "plt.xticks(rotation = 90)\n",
    "plt.show()"
   ]
  },
  {
   "cell_type": "markdown",
   "metadata": {},
   "source": [
    "Wow. OK, when we look at the entire training set, the optimal lambda seems to be much higher."
   ]
  },
  {
   "cell_type": "code",
   "execution_count": 125,
   "metadata": {},
   "outputs": [],
   "source": [
    "alphas = [1200 + 10*i for i in range(15)]\n",
    "cv_errors = []\n",
    "for alpha in alphas:\n",
    "    model = Ridge(alpha = alpha)\n",
    "    scores = cross_val_score(model, scaled_X_train, y_train, scoring='neg_mean_squared_error',cv=5)\n",
    "    avg_score = abs(scores).mean()\n",
    "    cv_errors.append(avg_score)"
   ]
  },
  {
   "cell_type": "code",
   "execution_count": 126,
   "metadata": {},
   "outputs": [
    {
     "data": {
      "image/png": "[encoded data removed]",
      "text/plain": [
       "<Figure size 1080x360 with 1 Axes>"
      ]
     },
     "metadata": {
      "needs_background": "light"
     },
     "output_type": "display_data"
    }
   ],
   "source": [
    "plt.figure(figsize = (15,5))\n",
    "plt.plot(cv_errors)\n",
    "plt.xticks(ticks = range(len(alphas)), labels = alphas)\n",
    "plt.xticks(rotation = 90)\n",
    "plt.show()"
   ]
  },
  {
   "cell_type": "markdown",
   "metadata": {},
   "source": [
    "optimal lambda = 1260"
   ]
  },
  {
   "cell_type": "markdown",
   "metadata": {},
   "source": [
    "<h5> Create Model, Predict, Evaluate </h5>"
   ]
  },
  {
   "cell_type": "code",
   "execution_count": 127,
   "metadata": {},
   "outputs": [
    {
     "data": {
      "text/plain": [
       "13.156230657559913"
      ]
     },
     "execution_count": 127,
     "metadata": {},
     "output_type": "execute_result"
    }
   ],
   "source": [
    "# Create model\n",
    "model = Ridge (alpha = 1260)\n",
    "model.fit(scaled_X_train, y_train)\n",
    "\n",
    "# Predict\n",
    "y_pred = model.predict(scaled_X_test)\n",
    "\n",
    "# Evaluate\n",
    "MSE = mean_squared_error(y_pred, y_test)\n",
    "RMSE = np.sqrt(MSE)\n",
    "100*RMSE / df['SalePrice'].mean()"
   ]
  },
  {
   "cell_type": "markdown",
   "metadata": {},
   "source": [
    "This is slightly better than degree = 2. But marginally."
   ]
  },
  {
   "cell_type": "markdown",
   "metadata": {},
   "source": [
    "<h5> Lasso Regularisation </h5>"
   ]
  },
  {
   "cell_type": "code",
   "execution_count": 128,
   "metadata": {},
   "outputs": [
    {
     "name": "stdout",
     "output_type": "stream",
     "text": [
      "training set size: 585 ||||| CV set size: 234\n"
     ]
    }
   ],
   "source": [
    "# Select small training set and cv set\n",
    "\n",
    "X_train, X_dummy, y_train, y_dummy = train_test_split(poly_features, y, test_size=0.8, random_state=101)\n",
    "X_cv, X_test, y_cv, y_test = train_test_split (X_dummy, y_dummy, test_size = 0.9, random_state = 101)\n",
    "print (f'training set size: {len(X_train)} ||||| CV set size: {len(X_cv)}')"
   ]
  },
  {
   "cell_type": "code",
   "execution_count": 129,
   "metadata": {},
   "outputs": [],
   "source": [
    "# Scale data\n",
    "scaler = StandardScaler()\n",
    "scaler.fit(X_train)\n",
    "scaled_X_train = scaler.transform(X_train)\n",
    "scaled_X_cv = scaler.transform(X_cv)"
   ]
  },
  {
   "cell_type": "code",
   "execution_count": 130,
   "metadata": {},
   "outputs": [
    {
     "name": "stderr",
     "output_type": "stream",
     "text": [
      "/opt/anaconda3/lib/python3.9/site-packages/sklearn/linear_model/_coordinate_descent.py:530: ConvergenceWarning: Objective did not converge. You might want to increase the number of iterations. Duality gap: 11926836609.25597, tolerance: 395987200.9029727\n",
      "  model = cd_fast.enet_coordinate_descent(\n",
      "/opt/anaconda3/lib/python3.9/site-packages/sklearn/linear_model/_coordinate_descent.py:530: ConvergenceWarning: Objective did not converge. You might want to increase the number of iterations. Duality gap: 12855394474.460674, tolerance: 395987200.9029727\n",
      "  model = cd_fast.enet_coordinate_descent(\n",
      "/opt/anaconda3/lib/python3.9/site-packages/sklearn/linear_model/_coordinate_descent.py:530: ConvergenceWarning: Objective did not converge. You might want to increase the number of iterations. Duality gap: 7648215263.259083, tolerance: 395987200.9029727\n",
      "  model = cd_fast.enet_coordinate_descent(\n"
     ]
    }
   ],
   "source": [
    "# Plot training error and cv error for a range of lambda values\n",
    "\n",
    "alphas = [1, 5, 10, 100, 500, 1000, 5000, 8000, 10000]\n",
    "training_errors = []\n",
    "cv_errors = []\n",
    "\n",
    "for alpha in alphas:\n",
    "    lasso_model = Lasso(alpha = alpha, max_iter= 10000)          # create linear reg. model, specifying lambda\n",
    "\n",
    "    lasso_model.fit(scaled_X_train, y_train)    # train lin. reg. model to get theta parameters\n",
    "\n",
    "    y_pred_train = lasso_model.predict(scaled_X_train)  # use model to predict for training set\n",
    "    y_pred_cv = lasso_model.predict(scaled_X_cv)        # use model to predict for CV set\n",
    "\n",
    "    MSE_train = mean_squared_error (y_pred_train, y_train)\n",
    "    #RMSE_train = np.sqrt(MSE_train)\n",
    "\n",
    "    MSE_cv = mean_squared_error (y_pred_cv, y_cv)\n",
    "    #RMSE_cv = np.sqrt(MSE_cv)\n",
    "\n",
    "    training_errors.append(MSE_train)\n",
    "    cv_errors.append(MSE_cv)"
   ]
  },
  {
   "cell_type": "code",
   "execution_count": 131,
   "metadata": {},
   "outputs": [
    {
     "data": {
      "image/png": "[encoded data removed]",
      "text/plain": [
       "<Figure size 432x288 with 1 Axes>"
      ]
     },
     "metadata": {
      "needs_background": "light"
     },
     "output_type": "display_data"
    }
   ],
   "source": [
    "plt.plot(training_errors, label = 'training')\n",
    "plt.plot(cv_errors, label = 'cv')\n",
    "plt.xticks(ticks = range(len(alphas)), labels = alphas)\n",
    "plt.xticks(rotation = 90)\n",
    "plt.legend()\n",
    "plt.show()"
   ]
  },
  {
   "cell_type": "markdown",
   "metadata": {},
   "source": [
    "Optimal range: between 50 and 1000"
   ]
  },
  {
   "cell_type": "code",
   "execution_count": 132,
   "metadata": {},
   "outputs": [
    {
     "name": "stderr",
     "output_type": "stream",
     "text": [
      "/opt/anaconda3/lib/python3.9/site-packages/sklearn/linear_model/_coordinate_descent.py:530: ConvergenceWarning: Objective did not converge. You might want to increase the number of iterations. Duality gap: 1036072649.8732147, tolerance: 395987200.9029727\n",
      "  model = cd_fast.enet_coordinate_descent(\n"
     ]
    }
   ],
   "source": [
    "# Scale data\n",
    "scaler = StandardScaler()\n",
    "scaler.fit(X_train)\n",
    "scaled_X_train = scaler.transform(X_train)\n",
    "scaled_X_cv = scaler.transform(X_cv)\n",
    "# Plot training error and cv error for a range of lambda values\n",
    "\n",
    "alphas = [50 + 25*i for i in range (20)]\n",
    "training_errors = []\n",
    "cv_errors = []\n",
    "\n",
    "for alpha in alphas:\n",
    "    lasso_model = Lasso(alpha = alpha, max_iter= 10000)          # create linear reg. model, specifying lambda\n",
    "\n",
    "    lasso_model.fit(scaled_X_train, y_train)    # train lin. reg. model to get theta parameters\n",
    "\n",
    "    y_pred_train = lasso_model.predict(scaled_X_train)  # use model to predict for training set\n",
    "    y_pred_cv = lasso_model.predict(scaled_X_cv)        # use model to predict for CV set\n",
    "\n",
    "    MSE_train = mean_squared_error (y_pred_train, y_train)\n",
    "    #RMSE_train = np.sqrt(MSE_train)\n",
    "\n",
    "    MSE_cv = mean_squared_error (y_pred_cv, y_cv)\n",
    "    #RMSE_cv = np.sqrt(MSE_cv)\n",
    "\n",
    "    training_errors.append(MSE_train)\n",
    "    cv_errors.append(MSE_cv)"
   ]
  },
  {
   "cell_type": "code",
   "execution_count": 133,
   "metadata": {},
   "outputs": [
    {
     "data": {
      "image/png": "[encoded data removed]",
      "text/plain": [
       "<Figure size 432x288 with 1 Axes>"
      ]
     },
     "metadata": {
      "needs_background": "light"
     },
     "output_type": "display_data"
    }
   ],
   "source": [
    "plt.plot(training_errors, label = 'training')\n",
    "plt.plot(cv_errors, label = 'cv')\n",
    "plt.xticks(ticks = range(len(alphas)), labels = alphas)\n",
    "plt.xticks(rotation = 90)\n",
    "plt.legend()\n",
    "plt.show()"
   ]
  },
  {
   "cell_type": "markdown",
   "metadata": {},
   "source": [
    "Optimal range: between 200 and 400. <br>\n",
    "Now let's use full training data."
   ]
  },
  {
   "cell_type": "code",
   "execution_count": 135,
   "metadata": {},
   "outputs": [
    {
     "name": "stdout",
     "output_type": "stream",
     "text": [
      "training set size: 2340 ||||| CV set size: 585\n"
     ]
    },
    {
     "name": "stderr",
     "output_type": "stream",
     "text": [
      "/opt/anaconda3/lib/python3.9/site-packages/sklearn/linear_model/_coordinate_descent.py:530: ConvergenceWarning: Objective did not converge. You might want to increase the number of iterations. Duality gap: 2624688359.836548, tolerance: 1224739592.9081283\n",
      "  model = cd_fast.enet_coordinate_descent(\n",
      "/opt/anaconda3/lib/python3.9/site-packages/sklearn/linear_model/_coordinate_descent.py:530: ConvergenceWarning: Objective did not converge. You might want to increase the number of iterations. Duality gap: 3321229586.948242, tolerance: 1141339719.2048666\n",
      "  model = cd_fast.enet_coordinate_descent(\n",
      "/opt/anaconda3/lib/python3.9/site-packages/sklearn/linear_model/_coordinate_descent.py:530: ConvergenceWarning: Objective did not converge. You might want to increase the number of iterations. Duality gap: 2305164447.123657, tolerance: 1258024151.8452046\n",
      "  model = cd_fast.enet_coordinate_descent(\n",
      "/opt/anaconda3/lib/python3.9/site-packages/sklearn/linear_model/_coordinate_descent.py:530: ConvergenceWarning: Objective did not converge. You might want to increase the number of iterations. Duality gap: 2666525363.661377, tolerance: 1254418011.4398155\n",
      "  model = cd_fast.enet_coordinate_descent(\n",
      "/opt/anaconda3/lib/python3.9/site-packages/sklearn/linear_model/_coordinate_descent.py:530: ConvergenceWarning: Objective did not converge. You might want to increase the number of iterations. Duality gap: 5470954659.432495, tolerance: 1199366769.3089993\n",
      "  model = cd_fast.enet_coordinate_descent(\n",
      "/opt/anaconda3/lib/python3.9/site-packages/sklearn/linear_model/_coordinate_descent.py:530: ConvergenceWarning: Objective did not converge. You might want to increase the number of iterations. Duality gap: 1676086265.739502, tolerance: 1224739592.9081283\n",
      "  model = cd_fast.enet_coordinate_descent(\n",
      "/opt/anaconda3/lib/python3.9/site-packages/sklearn/linear_model/_coordinate_descent.py:530: ConvergenceWarning: Objective did not converge. You might want to increase the number of iterations. Duality gap: 3349597581.869873, tolerance: 1141339719.2048666\n",
      "  model = cd_fast.enet_coordinate_descent(\n",
      "/opt/anaconda3/lib/python3.9/site-packages/sklearn/linear_model/_coordinate_descent.py:530: ConvergenceWarning: Objective did not converge. You might want to increase the number of iterations. Duality gap: 2411782596.1904297, tolerance: 1258024151.8452046\n",
      "  model = cd_fast.enet_coordinate_descent(\n",
      "/opt/anaconda3/lib/python3.9/site-packages/sklearn/linear_model/_coordinate_descent.py:530: ConvergenceWarning: Objective did not converge. You might want to increase the number of iterations. Duality gap: 1828409593.8337402, tolerance: 1254418011.4398155\n",
      "  model = cd_fast.enet_coordinate_descent(\n",
      "/opt/anaconda3/lib/python3.9/site-packages/sklearn/linear_model/_coordinate_descent.py:530: ConvergenceWarning: Objective did not converge. You might want to increase the number of iterations. Duality gap: 3256503132.593506, tolerance: 1199366769.3089993\n",
      "  model = cd_fast.enet_coordinate_descent(\n",
      "/opt/anaconda3/lib/python3.9/site-packages/sklearn/linear_model/_coordinate_descent.py:530: ConvergenceWarning: Objective did not converge. You might want to increase the number of iterations. Duality gap: 1511253478.7666016, tolerance: 1224739592.9081283\n",
      "  model = cd_fast.enet_coordinate_descent(\n",
      "/opt/anaconda3/lib/python3.9/site-packages/sklearn/linear_model/_coordinate_descent.py:530: ConvergenceWarning: Objective did not converge. You might want to increase the number of iterations. Duality gap: 2992577827.7337646, tolerance: 1141339719.2048666\n",
      "  model = cd_fast.enet_coordinate_descent(\n",
      "/opt/anaconda3/lib/python3.9/site-packages/sklearn/linear_model/_coordinate_descent.py:530: ConvergenceWarning: Objective did not converge. You might want to increase the number of iterations. Duality gap: 1481497987.7202148, tolerance: 1258024151.8452046\n",
      "  model = cd_fast.enet_coordinate_descent(\n",
      "/opt/anaconda3/lib/python3.9/site-packages/sklearn/linear_model/_coordinate_descent.py:530: ConvergenceWarning: Objective did not converge. You might want to increase the number of iterations. Duality gap: 2868493328.2037354, tolerance: 1254418011.4398155\n",
      "  model = cd_fast.enet_coordinate_descent(\n",
      "/opt/anaconda3/lib/python3.9/site-packages/sklearn/linear_model/_coordinate_descent.py:530: ConvergenceWarning: Objective did not converge. You might want to increase the number of iterations. Duality gap: 2367768423.633423, tolerance: 1199366769.3089993\n",
      "  model = cd_fast.enet_coordinate_descent(\n",
      "/opt/anaconda3/lib/python3.9/site-packages/sklearn/linear_model/_coordinate_descent.py:530: ConvergenceWarning: Objective did not converge. You might want to increase the number of iterations. Duality gap: 2087719509.6135254, tolerance: 1224739592.9081283\n",
      "  model = cd_fast.enet_coordinate_descent(\n",
      "/opt/anaconda3/lib/python3.9/site-packages/sklearn/linear_model/_coordinate_descent.py:530: ConvergenceWarning: Objective did not converge. You might want to increase the number of iterations. Duality gap: 2458580165.159424, tolerance: 1141339719.2048666\n",
      "  model = cd_fast.enet_coordinate_descent(\n",
      "/opt/anaconda3/lib/python3.9/site-packages/sklearn/linear_model/_coordinate_descent.py:530: ConvergenceWarning: Objective did not converge. You might want to increase the number of iterations. Duality gap: 1459629544.5533447, tolerance: 1258024151.8452046\n",
      "  model = cd_fast.enet_coordinate_descent(\n",
      "/opt/anaconda3/lib/python3.9/site-packages/sklearn/linear_model/_coordinate_descent.py:530: ConvergenceWarning: Objective did not converge. You might want to increase the number of iterations. Duality gap: 2515626417.2735596, tolerance: 1254418011.4398155\n",
      "  model = cd_fast.enet_coordinate_descent(\n",
      "/opt/anaconda3/lib/python3.9/site-packages/sklearn/linear_model/_coordinate_descent.py:530: ConvergenceWarning: Objective did not converge. You might want to increase the number of iterations. Duality gap: 2156556810.5076904, tolerance: 1199366769.3089993\n",
      "  model = cd_fast.enet_coordinate_descent(\n",
      "/opt/anaconda3/lib/python3.9/site-packages/sklearn/linear_model/_coordinate_descent.py:530: ConvergenceWarning: Objective did not converge. You might want to increase the number of iterations. Duality gap: 2162934042.2581787, tolerance: 1224739592.9081283\n",
      "  model = cd_fast.enet_coordinate_descent(\n",
      "/opt/anaconda3/lib/python3.9/site-packages/sklearn/linear_model/_coordinate_descent.py:530: ConvergenceWarning: Objective did not converge. You might want to increase the number of iterations. Duality gap: 1479391612.0628662, tolerance: 1141339719.2048666\n",
      "  model = cd_fast.enet_coordinate_descent(\n",
      "/opt/anaconda3/lib/python3.9/site-packages/sklearn/linear_model/_coordinate_descent.py:530: ConvergenceWarning: Objective did not converge. You might want to increase the number of iterations. Duality gap: 1632513632.0646973, tolerance: 1258024151.8452046\n",
      "  model = cd_fast.enet_coordinate_descent(\n",
      "/opt/anaconda3/lib/python3.9/site-packages/sklearn/linear_model/_coordinate_descent.py:530: ConvergenceWarning: Objective did not converge. You might want to increase the number of iterations. Duality gap: 2986688575.7075195, tolerance: 1254418011.4398155\n",
      "  model = cd_fast.enet_coordinate_descent(\n",
      "/opt/anaconda3/lib/python3.9/site-packages/sklearn/linear_model/_coordinate_descent.py:530: ConvergenceWarning: Objective did not converge. You might want to increase the number of iterations. Duality gap: 2114250195.696289, tolerance: 1199366769.3089993\n",
      "  model = cd_fast.enet_coordinate_descent(\n",
      "/opt/anaconda3/lib/python3.9/site-packages/sklearn/linear_model/_coordinate_descent.py:530: ConvergenceWarning: Objective did not converge. You might want to increase the number of iterations. Duality gap: 1992994161.887207, tolerance: 1224739592.9081283\n",
      "  model = cd_fast.enet_coordinate_descent(\n",
      "/opt/anaconda3/lib/python3.9/site-packages/sklearn/linear_model/_coordinate_descent.py:530: ConvergenceWarning: Objective did not converge. You might want to increase the number of iterations. Duality gap: 1280465792.665039, tolerance: 1141339719.2048666\n",
      "  model = cd_fast.enet_coordinate_descent(\n",
      "/opt/anaconda3/lib/python3.9/site-packages/sklearn/linear_model/_coordinate_descent.py:530: ConvergenceWarning: Objective did not converge. You might want to increase the number of iterations. Duality gap: 3094483518.4797363, tolerance: 1258024151.8452046\n",
      "  model = cd_fast.enet_coordinate_descent(\n",
      "/opt/anaconda3/lib/python3.9/site-packages/sklearn/linear_model/_coordinate_descent.py:530: ConvergenceWarning: Objective did not converge. You might want to increase the number of iterations. Duality gap: 2954310310.892578, tolerance: 1254418011.4398155\n",
      "  model = cd_fast.enet_coordinate_descent(\n",
      "/opt/anaconda3/lib/python3.9/site-packages/sklearn/linear_model/_coordinate_descent.py:530: ConvergenceWarning: Objective did not converge. You might want to increase the number of iterations. Duality gap: 1328879048.8624268, tolerance: 1199366769.3089993\n",
      "  model = cd_fast.enet_coordinate_descent(\n",
      "/opt/anaconda3/lib/python3.9/site-packages/sklearn/linear_model/_coordinate_descent.py:530: ConvergenceWarning: Objective did not converge. You might want to increase the number of iterations. Duality gap: 1715644366.7104492, tolerance: 1224739592.9081283\n",
      "  model = cd_fast.enet_coordinate_descent(\n",
      "/opt/anaconda3/lib/python3.9/site-packages/sklearn/linear_model/_coordinate_descent.py:530: ConvergenceWarning: Objective did not converge. You might want to increase the number of iterations. Duality gap: 1838430045.8146973, tolerance: 1141339719.2048666\n",
      "  model = cd_fast.enet_coordinate_descent(\n",
      "/opt/anaconda3/lib/python3.9/site-packages/sklearn/linear_model/_coordinate_descent.py:530: ConvergenceWarning: Objective did not converge. You might want to increase the number of iterations. Duality gap: 3189857496.880249, tolerance: 1258024151.8452046\n",
      "  model = cd_fast.enet_coordinate_descent(\n",
      "/opt/anaconda3/lib/python3.9/site-packages/sklearn/linear_model/_coordinate_descent.py:530: ConvergenceWarning: Objective did not converge. You might want to increase the number of iterations. Duality gap: 3243638947.9645996, tolerance: 1254418011.4398155\n",
      "  model = cd_fast.enet_coordinate_descent(\n",
      "/opt/anaconda3/lib/python3.9/site-packages/sklearn/linear_model/_coordinate_descent.py:530: ConvergenceWarning: Objective did not converge. You might want to increase the number of iterations. Duality gap: 1260901587.7020264, tolerance: 1199366769.3089993\n",
      "  model = cd_fast.enet_coordinate_descent(\n",
      "/opt/anaconda3/lib/python3.9/site-packages/sklearn/linear_model/_coordinate_descent.py:530: ConvergenceWarning: Objective did not converge. You might want to increase the number of iterations. Duality gap: 1681118217.8104248, tolerance: 1224739592.9081283\n",
      "  model = cd_fast.enet_coordinate_descent(\n",
      "/opt/anaconda3/lib/python3.9/site-packages/sklearn/linear_model/_coordinate_descent.py:530: ConvergenceWarning: Objective did not converge. You might want to increase the number of iterations. Duality gap: 1854677875.8937988, tolerance: 1141339719.2048666\n",
      "  model = cd_fast.enet_coordinate_descent(\n",
      "/opt/anaconda3/lib/python3.9/site-packages/sklearn/linear_model/_coordinate_descent.py:530: ConvergenceWarning: Objective did not converge. You might want to increase the number of iterations. Duality gap: 2859849932.0306396, tolerance: 1258024151.8452046\n",
      "  model = cd_fast.enet_coordinate_descent(\n",
      "/opt/anaconda3/lib/python3.9/site-packages/sklearn/linear_model/_coordinate_descent.py:530: ConvergenceWarning: Objective did not converge. You might want to increase the number of iterations. Duality gap: 4694585415.318726, tolerance: 1254418011.4398155\n",
      "  model = cd_fast.enet_coordinate_descent(\n",
      "/opt/anaconda3/lib/python3.9/site-packages/sklearn/linear_model/_coordinate_descent.py:530: ConvergenceWarning: Objective did not converge. You might want to increase the number of iterations. Duality gap: 1432210752.1184082, tolerance: 1199366769.3089993\n",
      "  model = cd_fast.enet_coordinate_descent(\n",
      "/opt/anaconda3/lib/python3.9/site-packages/sklearn/linear_model/_coordinate_descent.py:530: ConvergenceWarning: Objective did not converge. You might want to increase the number of iterations. Duality gap: 1884780695.5385742, tolerance: 1224739592.9081283\n",
      "  model = cd_fast.enet_coordinate_descent(\n",
      "/opt/anaconda3/lib/python3.9/site-packages/sklearn/linear_model/_coordinate_descent.py:530: ConvergenceWarning: Objective did not converge. You might want to increase the number of iterations. Duality gap: 2190534975.822998, tolerance: 1141339719.2048666\n",
      "  model = cd_fast.enet_coordinate_descent(\n",
      "/opt/anaconda3/lib/python3.9/site-packages/sklearn/linear_model/_coordinate_descent.py:530: ConvergenceWarning: Objective did not converge. You might want to increase the number of iterations. Duality gap: 2516621710.496826, tolerance: 1258024151.8452046\n",
      "  model = cd_fast.enet_coordinate_descent(\n",
      "/opt/anaconda3/lib/python3.9/site-packages/sklearn/linear_model/_coordinate_descent.py:530: ConvergenceWarning: Objective did not converge. You might want to increase the number of iterations. Duality gap: 7696291242.124023, tolerance: 1254418011.4398155\n",
      "  model = cd_fast.enet_coordinate_descent(\n",
      "/opt/anaconda3/lib/python3.9/site-packages/sklearn/linear_model/_coordinate_descent.py:530: ConvergenceWarning: Objective did not converge. You might want to increase the number of iterations. Duality gap: 1530557989.97583, tolerance: 1199366769.3089993\n",
      "  model = cd_fast.enet_coordinate_descent(\n",
      "/opt/anaconda3/lib/python3.9/site-packages/sklearn/linear_model/_coordinate_descent.py:530: ConvergenceWarning: Objective did not converge. You might want to increase the number of iterations. Duality gap: 2000367926.6137695, tolerance: 1224739592.9081283\n",
      "  model = cd_fast.enet_coordinate_descent(\n",
      "/opt/anaconda3/lib/python3.9/site-packages/sklearn/linear_model/_coordinate_descent.py:530: ConvergenceWarning: Objective did not converge. You might want to increase the number of iterations. Duality gap: 2497074789.416992, tolerance: 1141339719.2048666\n",
      "  model = cd_fast.enet_coordinate_descent(\n",
      "/opt/anaconda3/lib/python3.9/site-packages/sklearn/linear_model/_coordinate_descent.py:530: ConvergenceWarning: Objective did not converge. You might want to increase the number of iterations. Duality gap: 3456008037.0178223, tolerance: 1258024151.8452046\n",
      "  model = cd_fast.enet_coordinate_descent(\n",
      "/opt/anaconda3/lib/python3.9/site-packages/sklearn/linear_model/_coordinate_descent.py:530: ConvergenceWarning: Objective did not converge. You might want to increase the number of iterations. Duality gap: 6909385576.333496, tolerance: 1254418011.4398155\n",
      "  model = cd_fast.enet_coordinate_descent(\n",
      "/opt/anaconda3/lib/python3.9/site-packages/sklearn/linear_model/_coordinate_descent.py:530: ConvergenceWarning: Objective did not converge. You might want to increase the number of iterations. Duality gap: 1728546173.8395996, tolerance: 1199366769.3089993\n",
      "  model = cd_fast.enet_coordinate_descent(\n"
     ]
    }
   ],
   "source": [
    "# Split training / test\n",
    "\n",
    "X_train, X_test, y_train, y_test = train_test_split(poly_features, y, test_size=0.2, random_state=101)\n",
    "\n",
    "print (f'training set size: {len(X_train)} ||||| CV set size: {len(X_test)}')\n",
    "\n",
    "# Scale data\n",
    "scaler = StandardScaler()\n",
    "scaler.fit(X_train)\n",
    "scaled_X_train = scaler.transform(X_train)\n",
    "scaled_X_test = scaler.transform(X_test)\n",
    "\n",
    "# Compute errors for range of lambda values\n",
    "alphas = [200 + 50*i for i in range(10)]\n",
    "cv_errors = []\n",
    "for alpha in alphas:\n",
    "    model = Lasso(alpha = alpha)\n",
    "    scores = cross_val_score(model, scaled_X_train, y_train, scoring='neg_mean_squared_error',cv=5)\n",
    "    avg_score = abs(scores).mean()\n",
    "    cv_errors.append(avg_score)"
   ]
  },
  {
   "cell_type": "code",
   "execution_count": 136,
   "metadata": {},
   "outputs": [
    {
     "data": {
      "image/png": "[encoded data removed]",
      "text/plain": [
       "<Figure size 1080x360 with 1 Axes>"
      ]
     },
     "metadata": {
      "needs_background": "light"
     },
     "output_type": "display_data"
    }
   ],
   "source": [
    "# Plot\n",
    "plt.figure(figsize = (15,5))\n",
    "plt.plot(cv_errors)\n",
    "plt.xticks(ticks = range(len(alphas)), labels = alphas)\n",
    "plt.xticks(rotation = 90)\n",
    "plt.show()"
   ]
  },
  {
   "cell_type": "code",
   "execution_count": 137,
   "metadata": {},
   "outputs": [
    {
     "name": "stdout",
     "output_type": "stream",
     "text": [
      "training set size: 2340 ||||| CV set size: 585\n"
     ]
    },
    {
     "name": "stderr",
     "output_type": "stream",
     "text": [
      "/opt/anaconda3/lib/python3.9/site-packages/sklearn/linear_model/_coordinate_descent.py:530: ConvergenceWarning: Objective did not converge. You might want to increase the number of iterations. Duality gap: 2624688359.836548, tolerance: 1224739592.9081283\n",
      "  model = cd_fast.enet_coordinate_descent(\n",
      "/opt/anaconda3/lib/python3.9/site-packages/sklearn/linear_model/_coordinate_descent.py:530: ConvergenceWarning: Objective did not converge. You might want to increase the number of iterations. Duality gap: 3321229586.948242, tolerance: 1141339719.2048666\n",
      "  model = cd_fast.enet_coordinate_descent(\n",
      "/opt/anaconda3/lib/python3.9/site-packages/sklearn/linear_model/_coordinate_descent.py:530: ConvergenceWarning: Objective did not converge. You might want to increase the number of iterations. Duality gap: 2305164447.123657, tolerance: 1258024151.8452046\n",
      "  model = cd_fast.enet_coordinate_descent(\n",
      "/opt/anaconda3/lib/python3.9/site-packages/sklearn/linear_model/_coordinate_descent.py:530: ConvergenceWarning: Objective did not converge. You might want to increase the number of iterations. Duality gap: 2666525363.661377, tolerance: 1254418011.4398155\n",
      "  model = cd_fast.enet_coordinate_descent(\n",
      "/opt/anaconda3/lib/python3.9/site-packages/sklearn/linear_model/_coordinate_descent.py:530: ConvergenceWarning: Objective did not converge. You might want to increase the number of iterations. Duality gap: 5470954659.432495, tolerance: 1199366769.3089993\n",
      "  model = cd_fast.enet_coordinate_descent(\n",
      "/opt/anaconda3/lib/python3.9/site-packages/sklearn/linear_model/_coordinate_descent.py:530: ConvergenceWarning: Objective did not converge. You might want to increase the number of iterations. Duality gap: 2131897793.0668945, tolerance: 1224739592.9081283\n",
      "  model = cd_fast.enet_coordinate_descent(\n",
      "/opt/anaconda3/lib/python3.9/site-packages/sklearn/linear_model/_coordinate_descent.py:530: ConvergenceWarning: Objective did not converge. You might want to increase the number of iterations. Duality gap: 3126880656.5751953, tolerance: 1141339719.2048666\n",
      "  model = cd_fast.enet_coordinate_descent(\n",
      "/opt/anaconda3/lib/python3.9/site-packages/sklearn/linear_model/_coordinate_descent.py:530: ConvergenceWarning: Objective did not converge. You might want to increase the number of iterations. Duality gap: 2754359930.343994, tolerance: 1258024151.8452046\n",
      "  model = cd_fast.enet_coordinate_descent(\n",
      "/opt/anaconda3/lib/python3.9/site-packages/sklearn/linear_model/_coordinate_descent.py:530: ConvergenceWarning: Objective did not converge. You might want to increase the number of iterations. Duality gap: 2489910407.8570557, tolerance: 1254418011.4398155\n",
      "  model = cd_fast.enet_coordinate_descent(\n",
      "/opt/anaconda3/lib/python3.9/site-packages/sklearn/linear_model/_coordinate_descent.py:530: ConvergenceWarning: Objective did not converge. You might want to increase the number of iterations. Duality gap: 5188855055.177856, tolerance: 1199366769.3089993\n",
      "  model = cd_fast.enet_coordinate_descent(\n",
      "/opt/anaconda3/lib/python3.9/site-packages/sklearn/linear_model/_coordinate_descent.py:530: ConvergenceWarning: Objective did not converge. You might want to increase the number of iterations. Duality gap: 2020302572.9274902, tolerance: 1224739592.9081283\n",
      "  model = cd_fast.enet_coordinate_descent(\n",
      "/opt/anaconda3/lib/python3.9/site-packages/sklearn/linear_model/_coordinate_descent.py:530: ConvergenceWarning: Objective did not converge. You might want to increase the number of iterations. Duality gap: 3284937357.852539, tolerance: 1141339719.2048666\n",
      "  model = cd_fast.enet_coordinate_descent(\n",
      "/opt/anaconda3/lib/python3.9/site-packages/sklearn/linear_model/_coordinate_descent.py:530: ConvergenceWarning: Objective did not converge. You might want to increase the number of iterations. Duality gap: 2999242636.1221924, tolerance: 1258024151.8452046\n",
      "  model = cd_fast.enet_coordinate_descent(\n",
      "/opt/anaconda3/lib/python3.9/site-packages/sklearn/linear_model/_coordinate_descent.py:530: ConvergenceWarning: Objective did not converge. You might want to increase the number of iterations. Duality gap: 2298818243.4500732, tolerance: 1254418011.4398155\n",
      "  model = cd_fast.enet_coordinate_descent(\n",
      "/opt/anaconda3/lib/python3.9/site-packages/sklearn/linear_model/_coordinate_descent.py:530: ConvergenceWarning: Objective did not converge. You might want to increase the number of iterations. Duality gap: 5183509860.093872, tolerance: 1199366769.3089993\n",
      "  model = cd_fast.enet_coordinate_descent(\n",
      "/opt/anaconda3/lib/python3.9/site-packages/sklearn/linear_model/_coordinate_descent.py:530: ConvergenceWarning: Objective did not converge. You might want to increase the number of iterations. Duality gap: 2448395100.217163, tolerance: 1224739592.9081283\n",
      "  model = cd_fast.enet_coordinate_descent(\n",
      "/opt/anaconda3/lib/python3.9/site-packages/sklearn/linear_model/_coordinate_descent.py:530: ConvergenceWarning: Objective did not converge. You might want to increase the number of iterations. Duality gap: 3364871844.267212, tolerance: 1141339719.2048666\n",
      "  model = cd_fast.enet_coordinate_descent(\n",
      "/opt/anaconda3/lib/python3.9/site-packages/sklearn/linear_model/_coordinate_descent.py:530: ConvergenceWarning: Objective did not converge. You might want to increase the number of iterations. Duality gap: 3058717012.32312, tolerance: 1258024151.8452046\n",
      "  model = cd_fast.enet_coordinate_descent(\n",
      "/opt/anaconda3/lib/python3.9/site-packages/sklearn/linear_model/_coordinate_descent.py:530: ConvergenceWarning: Objective did not converge. You might want to increase the number of iterations. Duality gap: 2222221659.510742, tolerance: 1254418011.4398155\n",
      "  model = cd_fast.enet_coordinate_descent(\n",
      "/opt/anaconda3/lib/python3.9/site-packages/sklearn/linear_model/_coordinate_descent.py:530: ConvergenceWarning: Objective did not converge. You might want to increase the number of iterations. Duality gap: 5165663307.228516, tolerance: 1199366769.3089993\n",
      "  model = cd_fast.enet_coordinate_descent(\n",
      "/opt/anaconda3/lib/python3.9/site-packages/sklearn/linear_model/_coordinate_descent.py:530: ConvergenceWarning: Objective did not converge. You might want to increase the number of iterations. Duality gap: 2210100938.2321777, tolerance: 1224739592.9081283\n",
      "  model = cd_fast.enet_coordinate_descent(\n",
      "/opt/anaconda3/lib/python3.9/site-packages/sklearn/linear_model/_coordinate_descent.py:530: ConvergenceWarning: Objective did not converge. You might want to increase the number of iterations. Duality gap: 3304557438.1844482, tolerance: 1141339719.2048666\n",
      "  model = cd_fast.enet_coordinate_descent(\n",
      "/opt/anaconda3/lib/python3.9/site-packages/sklearn/linear_model/_coordinate_descent.py:530: ConvergenceWarning: Objective did not converge. You might want to increase the number of iterations. Duality gap: 2645891314.7877197, tolerance: 1258024151.8452046\n",
      "  model = cd_fast.enet_coordinate_descent(\n",
      "/opt/anaconda3/lib/python3.9/site-packages/sklearn/linear_model/_coordinate_descent.py:530: ConvergenceWarning: Objective did not converge. You might want to increase the number of iterations. Duality gap: 2091756121.0941162, tolerance: 1254418011.4398155\n",
      "  model = cd_fast.enet_coordinate_descent(\n",
      "/opt/anaconda3/lib/python3.9/site-packages/sklearn/linear_model/_coordinate_descent.py:530: ConvergenceWarning: Objective did not converge. You might want to increase the number of iterations. Duality gap: 5082686129.589233, tolerance: 1199366769.3089993\n",
      "  model = cd_fast.enet_coordinate_descent(\n",
      "/opt/anaconda3/lib/python3.9/site-packages/sklearn/linear_model/_coordinate_descent.py:530: ConvergenceWarning: Objective did not converge. You might want to increase the number of iterations. Duality gap: 1676086265.739502, tolerance: 1224739592.9081283\n",
      "  model = cd_fast.enet_coordinate_descent(\n",
      "/opt/anaconda3/lib/python3.9/site-packages/sklearn/linear_model/_coordinate_descent.py:530: ConvergenceWarning: Objective did not converge. You might want to increase the number of iterations. Duality gap: 3349597581.869873, tolerance: 1141339719.2048666\n",
      "  model = cd_fast.enet_coordinate_descent(\n",
      "/opt/anaconda3/lib/python3.9/site-packages/sklearn/linear_model/_coordinate_descent.py:530: ConvergenceWarning: Objective did not converge. You might want to increase the number of iterations. Duality gap: 2411782596.1904297, tolerance: 1258024151.8452046\n",
      "  model = cd_fast.enet_coordinate_descent(\n",
      "/opt/anaconda3/lib/python3.9/site-packages/sklearn/linear_model/_coordinate_descent.py:530: ConvergenceWarning: Objective did not converge. You might want to increase the number of iterations. Duality gap: 1828409593.8337402, tolerance: 1254418011.4398155\n",
      "  model = cd_fast.enet_coordinate_descent(\n",
      "/opt/anaconda3/lib/python3.9/site-packages/sklearn/linear_model/_coordinate_descent.py:530: ConvergenceWarning: Objective did not converge. You might want to increase the number of iterations. Duality gap: 3256503132.593506, tolerance: 1199366769.3089993\n",
      "  model = cd_fast.enet_coordinate_descent(\n",
      "/opt/anaconda3/lib/python3.9/site-packages/sklearn/linear_model/_coordinate_descent.py:530: ConvergenceWarning: Objective did not converge. You might want to increase the number of iterations. Duality gap: 1531507096.1972656, tolerance: 1224739592.9081283\n",
      "  model = cd_fast.enet_coordinate_descent(\n",
      "/opt/anaconda3/lib/python3.9/site-packages/sklearn/linear_model/_coordinate_descent.py:530: ConvergenceWarning: Objective did not converge. You might want to increase the number of iterations. Duality gap: 3352139828.512329, tolerance: 1141339719.2048666\n",
      "  model = cd_fast.enet_coordinate_descent(\n",
      "/opt/anaconda3/lib/python3.9/site-packages/sklearn/linear_model/_coordinate_descent.py:530: ConvergenceWarning: Objective did not converge. You might want to increase the number of iterations. Duality gap: 1951522966.2486572, tolerance: 1258024151.8452046\n",
      "  model = cd_fast.enet_coordinate_descent(\n",
      "/opt/anaconda3/lib/python3.9/site-packages/sklearn/linear_model/_coordinate_descent.py:530: ConvergenceWarning: Objective did not converge. You might want to increase the number of iterations. Duality gap: 1744512356.604248, tolerance: 1254418011.4398155\n",
      "  model = cd_fast.enet_coordinate_descent(\n",
      "/opt/anaconda3/lib/python3.9/site-packages/sklearn/linear_model/_coordinate_descent.py:530: ConvergenceWarning: Objective did not converge. You might want to increase the number of iterations. Duality gap: 2607897767.1848145, tolerance: 1199366769.3089993\n",
      "  model = cd_fast.enet_coordinate_descent(\n",
      "/opt/anaconda3/lib/python3.9/site-packages/sklearn/linear_model/_coordinate_descent.py:530: ConvergenceWarning: Objective did not converge. You might want to increase the number of iterations. Duality gap: 1711021041.477539, tolerance: 1224739592.9081283\n",
      "  model = cd_fast.enet_coordinate_descent(\n",
      "/opt/anaconda3/lib/python3.9/site-packages/sklearn/linear_model/_coordinate_descent.py:530: ConvergenceWarning: Objective did not converge. You might want to increase the number of iterations. Duality gap: 3386873190.2401123, tolerance: 1141339719.2048666\n",
      "  model = cd_fast.enet_coordinate_descent(\n",
      "/opt/anaconda3/lib/python3.9/site-packages/sklearn/linear_model/_coordinate_descent.py:530: ConvergenceWarning: Objective did not converge. You might want to increase the number of iterations. Duality gap: 1840881420.0371094, tolerance: 1258024151.8452046\n",
      "  model = cd_fast.enet_coordinate_descent(\n",
      "/opt/anaconda3/lib/python3.9/site-packages/sklearn/linear_model/_coordinate_descent.py:530: ConvergenceWarning: Objective did not converge. You might want to increase the number of iterations. Duality gap: 1747623231.0288086, tolerance: 1254418011.4398155\n",
      "  model = cd_fast.enet_coordinate_descent(\n",
      "/opt/anaconda3/lib/python3.9/site-packages/sklearn/linear_model/_coordinate_descent.py:530: ConvergenceWarning: Objective did not converge. You might want to increase the number of iterations. Duality gap: 2510765625.8720703, tolerance: 1199366769.3089993\n",
      "  model = cd_fast.enet_coordinate_descent(\n",
      "/opt/anaconda3/lib/python3.9/site-packages/sklearn/linear_model/_coordinate_descent.py:530: ConvergenceWarning: Objective did not converge. You might want to increase the number of iterations. Duality gap: 1579023883.6652832, tolerance: 1224739592.9081283\n",
      "  model = cd_fast.enet_coordinate_descent(\n",
      "/opt/anaconda3/lib/python3.9/site-packages/sklearn/linear_model/_coordinate_descent.py:530: ConvergenceWarning: Objective did not converge. You might want to increase the number of iterations. Duality gap: 3124342077.0960693, tolerance: 1141339719.2048666\n",
      "  model = cd_fast.enet_coordinate_descent(\n",
      "/opt/anaconda3/lib/python3.9/site-packages/sklearn/linear_model/_coordinate_descent.py:530: ConvergenceWarning: Objective did not converge. You might want to increase the number of iterations. Duality gap: 1544924897.277832, tolerance: 1258024151.8452046\n",
      "  model = cd_fast.enet_coordinate_descent(\n",
      "/opt/anaconda3/lib/python3.9/site-packages/sklearn/linear_model/_coordinate_descent.py:530: ConvergenceWarning: Objective did not converge. You might want to increase the number of iterations. Duality gap: 1799860692.2021484, tolerance: 1254418011.4398155\n",
      "  model = cd_fast.enet_coordinate_descent(\n",
      "/opt/anaconda3/lib/python3.9/site-packages/sklearn/linear_model/_coordinate_descent.py:530: ConvergenceWarning: Objective did not converge. You might want to increase the number of iterations. Duality gap: 2403588710.2059326, tolerance: 1199366769.3089993\n",
      "  model = cd_fast.enet_coordinate_descent(\n",
      "/opt/anaconda3/lib/python3.9/site-packages/sklearn/linear_model/_coordinate_descent.py:530: ConvergenceWarning: Objective did not converge. You might want to increase the number of iterations. Duality gap: 1469034020.2423096, tolerance: 1224739592.9081283\n",
      "  model = cd_fast.enet_coordinate_descent(\n",
      "/opt/anaconda3/lib/python3.9/site-packages/sklearn/linear_model/_coordinate_descent.py:530: ConvergenceWarning: Objective did not converge. You might want to increase the number of iterations. Duality gap: 3048961584.1658936, tolerance: 1141339719.2048666\n",
      "  model = cd_fast.enet_coordinate_descent(\n",
      "/opt/anaconda3/lib/python3.9/site-packages/sklearn/linear_model/_coordinate_descent.py:530: ConvergenceWarning: Objective did not converge. You might want to increase the number of iterations. Duality gap: 1445809153.3763428, tolerance: 1258024151.8452046\n",
      "  model = cd_fast.enet_coordinate_descent(\n",
      "/opt/anaconda3/lib/python3.9/site-packages/sklearn/linear_model/_coordinate_descent.py:530: ConvergenceWarning: Objective did not converge. You might want to increase the number of iterations. Duality gap: 2562742554.1313477, tolerance: 1254418011.4398155\n",
      "  model = cd_fast.enet_coordinate_descent(\n",
      "/opt/anaconda3/lib/python3.9/site-packages/sklearn/linear_model/_coordinate_descent.py:530: ConvergenceWarning: Objective did not converge. You might want to increase the number of iterations. Duality gap: 2358589319.085083, tolerance: 1199366769.3089993\n",
      "  model = cd_fast.enet_coordinate_descent(\n"
     ]
    }
   ],
   "source": [
    "# Split training / test\n",
    "\n",
    "X_train, X_test, y_train, y_test = train_test_split(poly_features, y, test_size=0.2, random_state=101)\n",
    "\n",
    "print (f'training set size: {len(X_train)} ||||| CV set size: {len(X_test)}')\n",
    "\n",
    "# Scale data\n",
    "scaler = StandardScaler()\n",
    "scaler.fit(X_train)\n",
    "scaled_X_train = scaler.transform(X_train)\n",
    "scaled_X_test = scaler.transform(X_test)\n",
    "\n",
    "# Compute errors for range of lambda values\n",
    "alphas = [200 + 10*i for i in range(10)]\n",
    "cv_errors = []\n",
    "for alpha in alphas:\n",
    "    model = Lasso(alpha = alpha)\n",
    "    scores = cross_val_score(model, scaled_X_train, y_train, scoring='neg_mean_squared_error',cv=5)\n",
    "    avg_score = abs(scores).mean()\n",
    "    cv_errors.append(avg_score)"
   ]
  },
  {
   "cell_type": "code",
   "execution_count": 138,
   "metadata": {},
   "outputs": [
    {
     "data": {
      "image/png": "[encoded data removed]",
      "text/plain": [
       "<Figure size 1080x360 with 1 Axes>"
      ]
     },
     "metadata": {
      "needs_background": "light"
     },
     "output_type": "display_data"
    }
   ],
   "source": [
    "# Plot\n",
    "plt.figure(figsize = (15,5))\n",
    "plt.plot(cv_errors)\n",
    "plt.xticks(ticks = range(len(alphas)), labels = alphas)\n",
    "plt.xticks(rotation = 90)\n",
    "plt.show()"
   ]
  },
  {
   "cell_type": "markdown",
   "metadata": {},
   "source": [
    "Optimal lambda = 260"
   ]
  },
  {
   "cell_type": "markdown",
   "metadata": {},
   "source": [
    "<h5> Predict and Evaluate </h5>"
   ]
  },
  {
   "cell_type": "code",
   "execution_count": 140,
   "metadata": {},
   "outputs": [
    {
     "name": "stderr",
     "output_type": "stream",
     "text": [
      "/opt/anaconda3/lib/python3.9/site-packages/sklearn/linear_model/_coordinate_descent.py:530: ConvergenceWarning: Objective did not converge. You might want to increase the number of iterations. Duality gap: 3600722830.3741455, tolerance: 1519708235.9863641\n",
      "  model = cd_fast.enet_coordinate_descent(\n"
     ]
    },
    {
     "data": {
      "text/plain": [
       "13.3"
      ]
     },
     "execution_count": 140,
     "metadata": {},
     "output_type": "execute_result"
    }
   ],
   "source": [
    "# Create model\n",
    "model = Lasso (alpha = 260)\n",
    "model.fit(scaled_X_train, y_train)\n",
    "\n",
    "# Predict\n",
    "y_pred = model.predict(scaled_X_test)\n",
    "\n",
    "# Evaluate\n",
    "MSE = mean_squared_error(y_pred, y_test)\n",
    "RMSE = np.sqrt(MSE)\n",
    "round (100*RMSE / df['SalePrice'].mean(), 2)"
   ]
  },
  {
   "cell_type": "markdown",
   "metadata": {},
   "source": [
    "Slight improvement in error. But still quite a bit worse than linear version."
   ]
  },
  {
   "cell_type": "markdown",
   "metadata": {},
   "source": [
    "<h4> Return to polynomial degree = 2 with Lasso regularisation <br> \n",
    "Include more features </h4>"
   ]
  },
  {
   "cell_type": "code",
   "execution_count": 151,
   "metadata": {},
   "outputs": [
    {
     "data": {
      "text/plain": [
       "(2925, 55)"
      ]
     },
     "execution_count": 151,
     "metadata": {},
     "output_type": "execute_result"
    }
   ],
   "source": [
    "corrM = df.corr()\n",
    "abs(corrM['SalePrice'])>0.25\n",
    "ser = abs(corrM['SalePrice'])>0.25\n",
    "# Get just true column labels\n",
    "ser[ser].index\n",
    "# Create subset of dataframe including only the selected features\n",
    "df_subset = df.loc[:, ser]\n",
    "df_subset.shape"
   ]
  },
  {
   "cell_type": "markdown",
   "metadata": {},
   "source": [
    "We'll try with 55 features, see if the computational time isn't too high."
   ]
  },
  {
   "cell_type": "code",
   "execution_count": 152,
   "metadata": {},
   "outputs": [
    {
     "name": "stdout",
     "output_type": "stream",
     "text": [
      "(2925, 54)\n"
     ]
    }
   ],
   "source": [
    "# Create variables \n",
    "X = df_subset.drop('SalePrice', axis = 1)\n",
    "y = df_subset['SalePrice']\n",
    "\n",
    "print(X.shape)\n",
    "\n",
    "# Create polynomial features\n",
    "polynomial_converter = PolynomialFeatures(degree=2)\n",
    "poly_features = polynomial_converter.fit_transform(X)\n",
    "\n"
   ]
  },
  {
   "cell_type": "code",
   "execution_count": 153,
   "metadata": {},
   "outputs": [
    {
     "name": "stdout",
     "output_type": "stream",
     "text": [
      "training set size: 585 ||||| CV set size: 234\n"
     ]
    }
   ],
   "source": [
    "# Select small training set and cv set\n",
    "\n",
    "X_train, X_dummy, y_train, y_dummy = train_test_split(poly_features, y, test_size=0.8, random_state=101)\n",
    "X_cv, X_test, y_cv, y_test = train_test_split (X_dummy, y_dummy, test_size = 0.9, random_state = 101)\n",
    "print (f'training set size: {len(X_train)} ||||| CV set size: {len(X_cv)}')\n",
    "\n",
    "\n",
    "# Scale data\n",
    "scaler = StandardScaler()\n",
    "scaler.fit(X_train)\n",
    "scaled_X_train = scaler.transform(X_train)\n",
    "scaled_X_cv = scaler.transform(X_cv)"
   ]
  },
  {
   "cell_type": "code",
   "execution_count": 154,
   "metadata": {},
   "outputs": [
    {
     "name": "stderr",
     "output_type": "stream",
     "text": [
      "/var/folders/68/lmdx_4hd4msbstk8y2t5phyh0000gn/T/ipykernel_17266/1220736144.py:10: UserWarning: With alpha=0, this algorithm does not converge well. You are advised to use the LinearRegression estimator\n",
      "  lasso_model.fit(scaled_X_train, y_train)    # train lin. reg. model to get theta parameters\n",
      "/opt/anaconda3/lib/python3.9/site-packages/sklearn/linear_model/_coordinate_descent.py:530: UserWarning: Coordinate descent with no regularization may lead to unexpected results and is discouraged.\n",
      "  model = cd_fast.enet_coordinate_descent(\n",
      "/opt/anaconda3/lib/python3.9/site-packages/sklearn/linear_model/_coordinate_descent.py:530: ConvergenceWarning: Objective did not converge. You might want to increase the number of iterations. Duality gap: 628035733.6732285, tolerance: 395987200.9029727\n",
      "  model = cd_fast.enet_coordinate_descent(\n",
      "/opt/anaconda3/lib/python3.9/site-packages/sklearn/linear_model/_coordinate_descent.py:530: ConvergenceWarning: Objective did not converge. You might want to increase the number of iterations. Duality gap: 1224513271.8303375, tolerance: 395987200.9029727\n",
      "  model = cd_fast.enet_coordinate_descent(\n",
      "/opt/anaconda3/lib/python3.9/site-packages/sklearn/linear_model/_coordinate_descent.py:530: ConvergenceWarning: Objective did not converge. You might want to increase the number of iterations. Duality gap: 2781319331.3534603, tolerance: 395987200.9029727\n",
      "  model = cd_fast.enet_coordinate_descent(\n",
      "/opt/anaconda3/lib/python3.9/site-packages/sklearn/linear_model/_coordinate_descent.py:530: ConvergenceWarning: Objective did not converge. You might want to increase the number of iterations. Duality gap: 2822044700.4426727, tolerance: 395987200.9029727\n",
      "  model = cd_fast.enet_coordinate_descent(\n"
     ]
    }
   ],
   "source": [
    "# Plot training error and cv error for a range of lambda values\n",
    "\n",
    "alphas = [0, 0.01, 0.03, 0.1, 0.3, 1, 5, 10, 30, 100, 200, 500, 700, 1000, 2000, 3000, 5000, 10000,100000]\n",
    "training_errors = []\n",
    "cv_errors = []\n",
    "\n",
    "for alpha in alphas:\n",
    "    lasso_model = Lasso(alpha = alpha, max_iter= 10000)          # create linear reg. model, specifying lambda\n",
    "\n",
    "    lasso_model.fit(scaled_X_train, y_train)    # train lin. reg. model to get theta parameters\n",
    "\n",
    "    y_pred_train = lasso_model.predict(scaled_X_train)  # use model to predict for training set\n",
    "    y_pred_cv = lasso_model.predict(scaled_X_cv)        # use model to predict for CV set\n",
    "\n",
    "    MSE_train = mean_squared_error (y_pred_train, y_train)\n",
    "    #RMSE_train = np.sqrt(MSE_train)\n",
    "\n",
    "    MSE_cv = mean_squared_error (y_pred_cv, y_cv)\n",
    "    #RMSE_cv = np.sqrt(MSE_cv)\n",
    "\n",
    "    training_errors.append(MSE_train)\n",
    "    cv_errors.append(MSE_cv)"
   ]
  },
  {
   "cell_type": "code",
   "execution_count": 155,
   "metadata": {},
   "outputs": [
    {
     "data": {
      "image/png": "[encoded data removed]",
      "text/plain": [
       "<Figure size 432x288 with 1 Axes>"
      ]
     },
     "metadata": {
      "needs_background": "light"
     },
     "output_type": "display_data"
    }
   ],
   "source": [
    "plt.plot(training_errors, label = 'training')\n",
    "plt.plot(cv_errors, label = 'cv')\n",
    "plt.xticks(ticks = range(len(alphas)), labels = alphas)\n",
    "plt.xticks(rotation = 90)\n",
    "plt.legend()\n",
    "plt.show()"
   ]
  },
  {
   "cell_type": "markdown",
   "metadata": {},
   "source": [
    "Try again from 30 to 15000"
   ]
  },
  {
   "cell_type": "code",
   "execution_count": 162,
   "metadata": {},
   "outputs": [],
   "source": [
    "# Plot training error and cv error for a range of lambda values\n",
    "\n",
    "alphas = [100, 200, 300, 400, 500, 600, 700, 800, 900, 1000, 2000, 3000, 5000]\n",
    "training_errors = []\n",
    "cv_errors = []\n",
    "\n",
    "for alpha in alphas:\n",
    "    lasso_model = Lasso(alpha = alpha, max_iter= 10000)          # create linear reg. model, specifying lambda\n",
    "\n",
    "    lasso_model.fit(scaled_X_train, y_train)    # train lin. reg. model to get theta parameters\n",
    "\n",
    "    y_pred_train = lasso_model.predict(scaled_X_train)  # use model to predict for training set\n",
    "    y_pred_cv = lasso_model.predict(scaled_X_cv)        # use model to predict for CV set\n",
    "\n",
    "    MSE_train = mean_squared_error (y_pred_train, y_train)\n",
    "    #RMSE_train = np.sqrt(MSE_train)\n",
    "\n",
    "    MSE_cv = mean_squared_error (y_pred_cv, y_cv)\n",
    "    #RMSE_cv = np.sqrt(MSE_cv)\n",
    "\n",
    "    training_errors.append(MSE_train)\n",
    "    cv_errors.append(MSE_cv)"
   ]
  },
  {
   "cell_type": "code",
   "execution_count": 163,
   "metadata": {},
   "outputs": [
    {
     "data": {
      "image/png": "[encoded data removed]",
      "text/plain": [
       "<Figure size 432x288 with 1 Axes>"
      ]
     },
     "metadata": {
      "needs_background": "light"
     },
     "output_type": "display_data"
    }
   ],
   "source": [
    "plt.plot(training_errors, label = 'training')\n",
    "plt.plot(cv_errors, label = 'cv')\n",
    "plt.xticks(ticks = range(len(alphas)), labels = alphas)\n",
    "plt.xticks(rotation = 90)\n",
    "plt.legend()\n",
    "plt.show()"
   ]
  },
  {
   "cell_type": "markdown",
   "metadata": {},
   "source": [
    "Now use full training set"
   ]
  },
  {
   "cell_type": "code",
   "execution_count": 168,
   "metadata": {},
   "outputs": [
    {
     "name": "stdout",
     "output_type": "stream",
     "text": [
      "training set size: 2632 ||||| CV set size: 293\n"
     ]
    },
    {
     "name": "stderr",
     "output_type": "stream",
     "text": [
      "/opt/anaconda3/lib/python3.9/site-packages/sklearn/linear_model/_coordinate_descent.py:530: ConvergenceWarning: Objective did not converge. You might want to increase the number of iterations. Duality gap: 6075777977.539673, tolerance: 1355206692.5276783\n",
      "  model = cd_fast.enet_coordinate_descent(\n",
      "/opt/anaconda3/lib/python3.9/site-packages/sklearn/linear_model/_coordinate_descent.py:530: ConvergenceWarning: Objective did not converge. You might want to increase the number of iterations. Duality gap: 8701506607.064758, tolerance: 1307913805.6588454\n",
      "  model = cd_fast.enet_coordinate_descent(\n",
      "/opt/anaconda3/lib/python3.9/site-packages/sklearn/linear_model/_coordinate_descent.py:530: ConvergenceWarning: Objective did not converge. You might want to increase the number of iterations. Duality gap: 6418135025.266968, tolerance: 1415056940.006107\n",
      "  model = cd_fast.enet_coordinate_descent(\n",
      "/opt/anaconda3/lib/python3.9/site-packages/sklearn/linear_model/_coordinate_descent.py:530: ConvergenceWarning: Objective did not converge. You might want to increase the number of iterations. Duality gap: 5794543194.515015, tolerance: 1438198040.0882876\n",
      "  model = cd_fast.enet_coordinate_descent(\n",
      "/opt/anaconda3/lib/python3.9/site-packages/sklearn/linear_model/_coordinate_descent.py:530: ConvergenceWarning: Objective did not converge. You might want to increase the number of iterations. Duality gap: 10661640555.68689, tolerance: 1345680018.2551236\n",
      "  model = cd_fast.enet_coordinate_descent(\n",
      "/opt/anaconda3/lib/python3.9/site-packages/sklearn/linear_model/_coordinate_descent.py:530: ConvergenceWarning: Objective did not converge. You might want to increase the number of iterations. Duality gap: 1453494078.6608887, tolerance: 1355206692.5276783\n",
      "  model = cd_fast.enet_coordinate_descent(\n",
      "/opt/anaconda3/lib/python3.9/site-packages/sklearn/linear_model/_coordinate_descent.py:530: ConvergenceWarning: Objective did not converge. You might want to increase the number of iterations. Duality gap: 2103797592.8120117, tolerance: 1438198040.0882876\n",
      "  model = cd_fast.enet_coordinate_descent(\n",
      "/opt/anaconda3/lib/python3.9/site-packages/sklearn/linear_model/_coordinate_descent.py:530: ConvergenceWarning: Objective did not converge. You might want to increase the number of iterations. Duality gap: 1740354622.5299072, tolerance: 1345680018.2551236\n",
      "  model = cd_fast.enet_coordinate_descent(\n"
     ]
    },
    {
     "data": {
      "image/png": "[encoded data removed]",
      "text/plain": [
       "<Figure size 1080x360 with 1 Axes>"
      ]
     },
     "metadata": {
      "needs_background": "light"
     },
     "output_type": "display_data"
    }
   ],
   "source": [
    "# Split training / test\n",
    "\n",
    "X_train, X_test, y_train, y_test = train_test_split(poly_features, y, test_size=0.1, random_state=101)\n",
    "\n",
    "print (f'training set size: {len(X_train)} ||||| CV set size: {len(X_test)}')\n",
    "\n",
    "# Scale data\n",
    "scaler = StandardScaler()\n",
    "scaler.fit(X_train)\n",
    "scaled_X_train = scaler.transform(X_train)\n",
    "scaled_X_test = scaler.transform(X_test)\n",
    "\n",
    "# Compute errors for range of lambda values\n",
    "alphas = [100 + 50*i for i in range(15)]\n",
    "cv_errors = []\n",
    "for alpha in alphas:\n",
    "    model = Lasso(alpha = alpha)\n",
    "    scores = cross_val_score(model, scaled_X_train, y_train, scoring='neg_mean_squared_error',cv=5)\n",
    "    avg_score = abs(scores).mean()\n",
    "    cv_errors.append(avg_score)\n",
    "\n",
    "# Plot\n",
    "plt.figure(figsize = (15,5))\n",
    "plt.plot(cv_errors)\n",
    "plt.xticks(ticks = range(len(alphas)), labels = alphas)\n",
    "plt.xticks(rotation = 90)\n",
    "plt.show()"
   ]
  },
  {
   "cell_type": "markdown",
   "metadata": {},
   "source": [
    "Region of 450 to 650 seems best. Plot one more time."
   ]
  },
  {
   "cell_type": "code",
   "execution_count": 166,
   "metadata": {},
   "outputs": [
    {
     "name": "stdout",
     "output_type": "stream",
     "text": [
      "training set size: 2340 ||||| CV set size: 585\n"
     ]
    },
    {
     "data": {
      "image/png": "[encoded data removed]",
      "text/plain": [
       "<Figure size 1080x360 with 1 Axes>"
      ]
     },
     "metadata": {
      "needs_background": "light"
     },
     "output_type": "display_data"
    }
   ],
   "source": [
    "# Split training / test\n",
    "\n",
    "X_train, X_test, y_train, y_test = train_test_split(poly_features, y, test_size=0.2, random_state=101)\n",
    "\n",
    "print (f'training set size: {len(X_train)} ||||| CV set size: {len(X_test)}')\n",
    "\n",
    "# Scale data\n",
    "scaler = StandardScaler()\n",
    "scaler.fit(X_train)\n",
    "scaled_X_train = scaler.transform(X_train)\n",
    "scaled_X_test = scaler.transform(X_test)\n",
    "\n",
    "# Compute errors for range of lambda values\n",
    "alphas = [450 + 10*i for i in range(20)]\n",
    "cv_errors = []\n",
    "for alpha in alphas:\n",
    "    model = Lasso(alpha = alpha)\n",
    "    scores = cross_val_score(model, scaled_X_train, y_train, scoring='neg_mean_squared_error',cv=5)\n",
    "    avg_score = abs(scores).mean()\n",
    "    cv_errors.append(avg_score)\n",
    "\n",
    "# Plot\n",
    "plt.figure(figsize = (15,5))\n",
    "plt.plot(cv_errors)\n",
    "plt.xticks(ticks = range(len(alphas)), labels = alphas)\n",
    "plt.xticks(rotation = 90)\n",
    "plt.show()"
   ]
  },
  {
   "cell_type": "markdown",
   "metadata": {},
   "source": [
    "lambda = 570 seems optimal"
   ]
  },
  {
   "cell_type": "markdown",
   "metadata": {},
   "source": [
    "<h5> Create model, predict, evaluate </h5>"
   ]
  },
  {
   "cell_type": "code",
   "execution_count": 167,
   "metadata": {},
   "outputs": [
    {
     "data": {
      "text/plain": [
       "13.08"
      ]
     },
     "execution_count": 167,
     "metadata": {},
     "output_type": "execute_result"
    }
   ],
   "source": [
    "# Create model\n",
    "model = Lasso (alpha = 570)\n",
    "model.fit(scaled_X_train, y_train)\n",
    "\n",
    "# Predict\n",
    "y_pred = model.predict(scaled_X_test)\n",
    "\n",
    "# Evaluate\n",
    "MSE = mean_squared_error(y_pred, y_test)\n",
    "RMSE = np.sqrt(MSE)\n",
    "round (100*RMSE / df['SalePrice'].mean(), 2)"
   ]
  },
  {
   "cell_type": "code",
   "execution_count": null,
   "metadata": {},
   "outputs": [],
   "source": []
  },
  {
   "cell_type": "code",
   "execution_count": null,
   "metadata": {},
   "outputs": [],
   "source": []
  }
 ],
 "metadata": {
  "interpreter": {
   "hash": "40d3a090f54c6569ab1632332b64b2c03c39dcf918b08424e98f38b5ae0af88f"
  },
  "kernelspec": {
   "display_name": "Python 3.9.7 ('base')",
   "language": "python",
   "name": "python3"
  },
  "language_info": {
   "codemirror_mode": {
    "name": "ipython",
    "version": 3
   },
   "file_extension": ".py",
   "mimetype": "text/x-python",
   "name": "python",
   "nbconvert_exporter": "python",
   "pygments_lexer": "ipython3",
   "version": "3.9.7"
  },
  "orig_nbformat": 4
 },
 "nbformat": 4,
 "nbformat_minor": 2
}
