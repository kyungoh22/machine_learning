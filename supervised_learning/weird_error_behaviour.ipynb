{
 "cells": [
  {
   "cell_type": "code",
   "execution_count": 2,
   "metadata": {},
   "outputs": [
    {
     "data": {
      "text/plain": [
       "<matplotlib.legend.Legend at 0x7f8700e65550>"
      ]
     },
     "execution_count": 2,
     "metadata": {},
     "output_type": "execute_result"
    },
    {
     "data": {
      "image/png": "[encoded data removed]",
      "text/plain": [
       "<Figure size 432x288 with 1 Axes>"
      ]
     },
     "metadata": {
      "needs_background": "light"
     },
     "output_type": "display_data"
    }
   ],
   "source": [
    "import numpy as np\n",
    "import pandas as pd\n",
    "import matplotlib.pyplot as plt\n",
    "import seaborn as sns\n",
    "\n",
    "df = pd.read_csv(\"Advertising.csv\")\n",
    "\n",
    "# Create X and y \n",
    "X = df.drop('sales', axis = 1)\n",
    "y = df['sales']\n",
    "\n",
    "# Train | Test split\n",
    "from sklearn.model_selection import train_test_split\n",
    "X_train, X_test, y_train, y_test = train_test_split(X, y, test_size=0.3, random_state=101)\n",
    "\n",
    "# Scale data\n",
    "from sklearn.preprocessing import StandardScaler\n",
    "scaler = StandardScaler()\n",
    "scaler.fit(X_train)\n",
    "X_train_scaled = scaler.transform(X_train)\n",
    "X_test_scaled = scaler.transform(X_test)\n",
    "\n",
    "from sklearn.linear_model import Ridge \n",
    "from sklearn.metrics import mean_absolute_error\n",
    "\n",
    "\n",
    "# Find training errors and test errors for different lambda/alpha values\n",
    "\n",
    "train_errors = []\n",
    "test_errors = []\n",
    "lambdas = [0, 0.001, 0.002, 0.003, 0.004, 0.008, 0.01, 0.03, 0.1, 0.3, 1, 1.5, 2, 2.5, 3, 3.5, 4,5,6,7, 8, 50]\n",
    "\n",
    "for i in range (len(lambdas)):\n",
    "    model = Ridge (alpha = lambdas[i])\n",
    "\n",
    "    model.fit(X_train_scaled, y_train)\n",
    "\n",
    "    y_train_pred = model.predict(X_train_scaled)\n",
    "    MAE_train = mean_absolute_error(y_train_pred, y_train)\n",
    "\n",
    "    y_test_pred = model.predict(X_test_scaled)\n",
    "    MAE_test = mean_absolute_error(y_test_pred, y_test)\n",
    "\n",
    "    train_errors.append(MAE_train)\n",
    "    test_errors.append(MAE_test)\n",
    "\n",
    "plt.plot(lambdas, train_errors, color = 'red', label = 'train error')\n",
    "plt.plot(lambdas, test_errors, color = 'blue', label = 'test error')\n",
    "plt.legend()\n",
    "\n",
    "# 'train error' should be lower than 'test error', but this is reversed in the low-alpha region\n",
    "# 'test error' should be high in the low-alpha region, but it starts off near zero."
   ]
  },
  {
   "cell_type": "code",
   "execution_count": null,
   "metadata": {},
   "outputs": [],
   "source": []
  }
 ],
 "metadata": {
  "interpreter": {
   "hash": "40d3a090f54c6569ab1632332b64b2c03c39dcf918b08424e98f38b5ae0af88f"
  },
  "kernelspec": {
   "display_name": "Python 3.9.7 ('base')",
   "language": "python",
   "name": "python3"
  },
  "language_info": {
   "codemirror_mode": {
    "name": "ipython",
    "version": 3
   },
   "file_extension": ".py",
   "mimetype": "text/x-python",
   "name": "python",
   "nbconvert_exporter": "python",
   "pygments_lexer": "ipython3",
   "version": "3.9.7"
  },
  "orig_nbformat": 4
 },
 "nbformat": 4,
 "nbformat_minor": 2
}
