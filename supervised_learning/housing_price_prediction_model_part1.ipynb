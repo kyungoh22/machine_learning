{
 "cells": [
  {
   "cell_type": "code",
   "execution_count": 1,
   "metadata": {},
   "outputs": [],
   "source": [
    "import numpy as np\n",
    "import pandas as pd\n",
    "import matplotlib.pyplot as plt\n",
    "import seaborn as sns"
   ]
  },
  {
   "cell_type": "code",
   "execution_count": 2,
   "metadata": {},
   "outputs": [],
   "source": [
    "df = pd.read_csv(\"AMES_Final_DF.csv\")"
   ]
  },
  {
   "cell_type": "code",
   "execution_count": 3,
   "metadata": {},
   "outputs": [
    {
     "name": "stdout",
     "output_type": "stream",
     "text": [
      "<class 'pandas.core.frame.DataFrame'>\n",
      "RangeIndex: 2925 entries, 0 to 2924\n",
      "Columns: 274 entries, Lot Frontage to Sale Condition_Partial\n",
      "dtypes: float64(11), int64(263)\n",
      "memory usage: 6.1 MB\n"
     ]
    }
   ],
   "source": [
    "df.info()"
   ]
  },
  {
   "cell_type": "code",
   "execution_count": 4,
   "metadata": {},
   "outputs": [],
   "source": [
    "X = df.drop('SalePrice', axis = 1)\n",
    "y = df['SalePrice']"
   ]
  },
  {
   "cell_type": "code",
   "execution_count": 5,
   "metadata": {},
   "outputs": [],
   "source": [
    "from sklearn.model_selection import train_test_split"
   ]
  },
  {
   "cell_type": "code",
   "execution_count": 6,
   "metadata": {},
   "outputs": [],
   "source": [
    "# Split into 'train', 'CV', 'test' sets\n",
    "X_train, X_dummy, y_train, y_dummy = train_test_split(X, y, test_size=0.3, random_state=101)\n",
    "X_cv, X_test, y_cv, y_test = train_test_split (X_dummy, y_dummy, test_size = 0.5, random_state = 101)"
   ]
  },
  {
   "cell_type": "code",
   "execution_count": 7,
   "metadata": {},
   "outputs": [],
   "source": [
    "from sklearn.preprocessing import StandardScaler"
   ]
  },
  {
   "cell_type": "code",
   "execution_count": 8,
   "metadata": {},
   "outputs": [],
   "source": [
    "# Scale data\n",
    "scaler = StandardScaler()\n",
    "scaler.fit(X_train)\n",
    "scaled_X_train = scaler.transform(X_train)\n",
    "scaled_X_cv = scaler.transform(X_cv)\n",
    "scaled_X_test = scaler.transform(X_test)"
   ]
  },
  {
   "cell_type": "code",
   "execution_count": 9,
   "metadata": {},
   "outputs": [],
   "source": [
    "from sklearn.linear_model import Ridge\n",
    "from sklearn.metrics import mean_squared_error"
   ]
  },
  {
   "cell_type": "code",
   "execution_count": 10,
   "metadata": {},
   "outputs": [
    {
     "data": {
      "image/png": "[encoded data removed]",
      "text/plain": [
       "<Figure size 432x288 with 1 Axes>"
      ]
     },
     "metadata": {
      "needs_background": "light"
     },
     "output_type": "display_data"
    }
   ],
   "source": [
    "\"\"\"\n",
    "Compute the training error and CV error for a range of lambda values\n",
    "\"\"\"\n",
    "\n",
    "alphas = [0.01, 0.03, 0.1, 0.3, 1, 5, 10, 30, 100, 200, 500, 1000]\n",
    "training_errors = []\n",
    "cv_errors = []\n",
    "\n",
    "for alpha in alphas:\n",
    "    ridge_model = Ridge(alpha = alpha)          # create linear reg. model, specifying lambda\n",
    "\n",
    "    ridge_model.fit(scaled_X_train, y_train)    # train lin. reg. model to get theta parameters\n",
    "\n",
    "    y_pred_train = ridge_model.predict(scaled_X_train)  # use model to predict for training set\n",
    "    y_pred_cv = ridge_model.predict(scaled_X_cv)        # use model to predict for CV set\n",
    "\n",
    "    MSE_train = mean_squared_error (y_pred_train, y_train)\n",
    "    #RMSE_train = np.sqrt(MSE_train)\n",
    "\n",
    "    MSE_cv = mean_squared_error (y_pred_cv, y_cv)\n",
    "    #RMSE_cv = np.sqrt(MSE_cv)\n",
    "\n",
    "    training_errors.append(MSE_train)\n",
    "    cv_errors.append(MSE_cv)\n",
    "\n",
    "plt.plot(training_errors, label = 'training')\n",
    "plt.plot(cv_errors, label = 'cv')\n",
    "plt.xticks(ticks = range(len(alphas)), labels = alphas)\n",
    "plt.legend()\n",
    "plt.show()\n",
    "\n",
    "\n"
   ]
  },
  {
   "cell_type": "markdown",
   "metadata": {},
   "source": [
    "These error graphs are still behaving strangely. The training error should be low for no regularisation, and continuously rise. The cv error should start out high, then dip towards the middle, and then begin to rise again. <br><br> Could this be because the training data is already too large? If we have fewer training examples, then the model should do a better job of fitting the training data with low bias, and so the training error should be lower, and the CV error higher. <br><br> Another possible reason is that a linear fit is just always going to be bad, and we will always have a relatively steady, high level of bias. So the next thing to try would be to try different polynomial degrees for our model."
   ]
  },
  {
   "cell_type": "markdown",
   "metadata": {},
   "source": [
    "<h5> Plan: </h5> <br>\n",
    "1. Select only 100 training examples and 10 cv examples. Then plot error graphs. <br>\n",
    "2. Select only 100 training examples and 10 cv examples. Pick optimal polynomial degree for model. Then plot error graphs"
   ]
  },
  {
   "cell_type": "code",
   "execution_count": 11,
   "metadata": {},
   "outputs": [
    {
     "name": "stdout",
     "output_type": "stream",
     "text": [
      "training set size: 146 ||||| CV set size: 55\n"
     ]
    }
   ],
   "source": [
    "# Select smaller training and cv sets.\n",
    "\n",
    "X_train, X_dummy, y_train, y_dummy = train_test_split(X, y, test_size=0.95, random_state=101)\n",
    "X_cv, X_test, y_cv, y_test = train_test_split (X_dummy, y_dummy, test_size = 0.98, random_state = 101)\n",
    "print (f'training set size: {len(X_train)} ||||| CV set size: {len(X_cv)}')"
   ]
  },
  {
   "cell_type": "code",
   "execution_count": 12,
   "metadata": {},
   "outputs": [],
   "source": [
    "# Scale X values\n",
    "scaler = StandardScaler()\n",
    "scaler.fit(X_train)\n",
    "scaled_X_train = scaler.transform(X_train)\n",
    "scaled_X_cv = scaler.transform(X_cv)\n",
    "scaled_X_test = scaler.transform(X_test)"
   ]
  },
  {
   "cell_type": "code",
   "execution_count": 13,
   "metadata": {},
   "outputs": [
    {
     "data": {
      "image/png": "[encoded data removed]",
      "text/plain": [
       "<Figure size 432x288 with 1 Axes>"
      ]
     },
     "metadata": {
      "needs_background": "light"
     },
     "output_type": "display_data"
    }
   ],
   "source": [
    "# Plot training error and cv error for a range of lambda values\n",
    "\n",
    "alphas = [0, 0.01, 0.03, 0.1, 0.3, 1, 5, 10, 30, 100, 200, 500, 1000, 10000]\n",
    "training_errors = []\n",
    "cv_errors = []\n",
    "\n",
    "for alpha in alphas:\n",
    "    ridge_model = Ridge(alpha = alpha)          # create linear reg. model, specifying lambda\n",
    "\n",
    "    ridge_model.fit(scaled_X_train, y_train)    # train lin. reg. model to get theta parameters\n",
    "\n",
    "    y_pred_train = ridge_model.predict(scaled_X_train)  # use model to predict for training set\n",
    "    y_pred_cv = ridge_model.predict(scaled_X_cv)        # use model to predict for CV set\n",
    "\n",
    "    MSE_train = mean_squared_error (y_pred_train, y_train)\n",
    "    #RMSE_train = np.sqrt(MSE_train)\n",
    "\n",
    "    MSE_cv = mean_squared_error (y_pred_cv, y_cv)\n",
    "    #RMSE_cv = np.sqrt(MSE_cv)\n",
    "\n",
    "    training_errors.append(MSE_train)\n",
    "    cv_errors.append(MSE_cv)\n",
    "\n",
    "plt.plot(training_errors, label = 'training')\n",
    "plt.plot(cv_errors, label = 'cv')\n",
    "plt.xticks(ticks = range(len(alphas)), labels = alphas)\n",
    "plt.legend()\n",
    "plt.show()"
   ]
  },
  {
   "cell_type": "markdown",
   "metadata": {},
   "source": [
    "BAM! <br>\n",
    "Great. This is behaving correctly. <br>\n",
    "OK, now, just out of curiosity, let's keep playing around with the training set size and CV set size and see to what point the graphs behave correctly."
   ]
  },
  {
   "cell_type": "code",
   "execution_count": 14,
   "metadata": {},
   "outputs": [
    {
     "name": "stdout",
     "output_type": "stream",
     "text": [
      "training set size: 438 ||||| CV set size: 49\n"
     ]
    }
   ],
   "source": [
    "# Select slightly larger training set size.\n",
    "\n",
    "X_train, X_dummy, y_train, y_dummy = train_test_split(X, y, test_size=0.85, random_state=101)\n",
    "X_cv, X_test, y_cv, y_test = train_test_split (X_dummy, y_dummy, test_size = 0.98, random_state = 101)\n",
    "len(X_train), len(X_cv)\n",
    "print (f'training set size: {len(X_train)} ||||| CV set size: {len(X_cv)}')"
   ]
  },
  {
   "cell_type": "code",
   "execution_count": 15,
   "metadata": {},
   "outputs": [
    {
     "data": {
      "image/png": "[encoded data removed]",
      "text/plain": [
       "<Figure size 432x288 with 1 Axes>"
      ]
     },
     "metadata": {
      "needs_background": "light"
     },
     "output_type": "display_data"
    }
   ],
   "source": [
    "# Scale X values \n",
    "\n",
    "scaler = StandardScaler()\n",
    "scaler.fit(X_train)\n",
    "scaled_X_train = scaler.transform(X_train)\n",
    "scaled_X_cv = scaler.transform(X_cv)\n",
    "scaled_X_test = scaler.transform(X_test)\n",
    "\n",
    "# plot training error and CV error for range of lambda values\n",
    "alphas = [0.01, 0.03, 0.1, 0.3, 1, 5, 10, 30, 100, 200, 500, 1000, 5000]\n",
    "training_errors = []\n",
    "cv_errors = []\n",
    "\n",
    "for alpha in alphas:\n",
    "    ridge_model = Ridge(alpha = alpha)          # create linear reg. model, specifying lambda\n",
    "\n",
    "    ridge_model.fit(scaled_X_train, y_train)    # train lin. reg. model to get theta parameters\n",
    "\n",
    "    y_pred_train = ridge_model.predict(scaled_X_train)  # use model to predict for training set\n",
    "    y_pred_cv = ridge_model.predict(scaled_X_cv)        # use model to predict for CV set\n",
    "\n",
    "    MSE_train = mean_squared_error (y_pred_train, y_train)\n",
    "    #RMSE_train = np.sqrt(MSE_train)\n",
    "\n",
    "    MSE_cv = mean_squared_error (y_pred_cv, y_cv)\n",
    "    #RMSE_cv = np.sqrt(MSE_cv)\n",
    "\n",
    "    training_errors.append(MSE_train)\n",
    "    cv_errors.append(MSE_cv)\n",
    "\n",
    "plt.plot(training_errors, label = 'training')\n",
    "plt.plot(cv_errors, label = 'cv')\n",
    "plt.xticks(ticks = range(len(alphas)), labels = alphas)\n",
    "plt.legend()\n",
    "plt.show()"
   ]
  },
  {
   "cell_type": "markdown",
   "metadata": {},
   "source": [
    "Note: With absolutely no regularisation (lambda = 0), the CV error is much much too high, making the graph illegible. So I plotted from lambda = 0.01"
   ]
  },
  {
   "cell_type": "code",
   "execution_count": 16,
   "metadata": {},
   "outputs": [
    {
     "name": "stdout",
     "output_type": "stream",
     "text": [
      "training set size: 1023 ||||| CV set size: 190\n"
     ]
    }
   ],
   "source": [
    "# Select another larger training set.\n",
    "\n",
    "X_train, X_dummy, y_train, y_dummy = train_test_split(X, y, test_size=0.65, random_state=101)\n",
    "X_cv, X_test, y_cv, y_test = train_test_split (X_dummy, y_dummy, test_size = 0.9, random_state = 101)\n",
    "len(X_train), len(X_cv)\n",
    "print (f'training set size: {len(X_train)} ||||| CV set size: {len(X_cv)}')"
   ]
  },
  {
   "cell_type": "code",
   "execution_count": 17,
   "metadata": {},
   "outputs": [
    {
     "data": {
      "image/png": "[encoded data removed]",
      "text/plain": [
       "<Figure size 432x288 with 1 Axes>"
      ]
     },
     "metadata": {
      "needs_background": "light"
     },
     "output_type": "display_data"
    }
   ],
   "source": [
    "# Scale X values\n",
    "scaler = StandardScaler()\n",
    "scaler.fit(X_train)\n",
    "scaled_X_train = scaler.transform(X_train)\n",
    "scaled_X_cv = scaler.transform(X_cv)\n",
    "scaled_X_test = scaler.transform(X_test)\n",
    "\n",
    "# plot training error and CV error for range of lambda values\n",
    "alphas = [0.01, 0.03, 0.1, 0.3, 1, 5, 10, 30, 100, 200, 500, 1000, 5000]\n",
    "training_errors = []\n",
    "cv_errors = []\n",
    "\n",
    "for alpha in alphas:\n",
    "    ridge_model = Ridge(alpha = alpha)          # create linear reg. model, specifying lambda\n",
    "\n",
    "    ridge_model.fit(scaled_X_train, y_train)    # train lin. reg. model to get theta parameters\n",
    "\n",
    "    y_pred_train = ridge_model.predict(scaled_X_train)  # use model to predict for training set\n",
    "    y_pred_cv = ridge_model.predict(scaled_X_cv)        # use model to predict for CV set\n",
    "\n",
    "    MSE_train = mean_squared_error (y_pred_train, y_train)\n",
    "    #RMSE_train = np.sqrt(MSE_train)\n",
    "\n",
    "    MSE_cv = mean_squared_error (y_pred_cv, y_cv)\n",
    "    #RMSE_cv = np.sqrt(MSE_cv)\n",
    "\n",
    "    training_errors.append(MSE_train)\n",
    "    cv_errors.append(MSE_cv)\n",
    "\n",
    "plt.plot(training_errors, label = 'training')\n",
    "plt.plot(cv_errors, label = 'cv')\n",
    "plt.xticks(ticks = range(len(alphas)), labels = alphas)\n",
    "plt.legend()\n",
    "plt.show()"
   ]
  },
  {
   "cell_type": "markdown",
   "metadata": {},
   "source": [
    "OK, now this is really starting to make sense. Remember Andrew Ng said – if you have high variance, adding more training samples will reduce the error. This is exactly what we're seeing. As we increase the number of training samples, the error at lambda = 0.01 went from 5 * 10^9, to 0.8 * 10^9, to 0.58 * 10^9. "
   ]
  },
  {
   "cell_type": "markdown",
   "metadata": {},
   "source": [
    "<h5> Based on the graphs above, it seems that with Ridge regression, lambda = 30 is around the ideal value. Now let's use cross_val_scores and cross_validate. These will automatically split the training set into a sub-training-set and CV set. So we only need to split the data into X_train and X_test (holdout) </h5>"
   ]
  },
  {
   "cell_type": "code",
   "execution_count": 18,
   "metadata": {},
   "outputs": [],
   "source": [
    "X_train, X_test, y_train, y_test = train_test_split(X, y, test_size=0.1, random_state=101) # Holdout test set size = 10%"
   ]
  },
  {
   "cell_type": "code",
   "execution_count": 19,
   "metadata": {},
   "outputs": [],
   "source": [
    "scaler = StandardScaler()\n",
    "scaler.fit(X_train)\n",
    "scaled_X_train = scaler.transform(X_train)\n",
    "scaled_X_test = scaler.transform(X_test)"
   ]
  },
  {
   "cell_type": "code",
   "execution_count": 20,
   "metadata": {},
   "outputs": [],
   "source": [
    "from sklearn.model_selection import cross_val_score"
   ]
  },
  {
   "cell_type": "code",
   "execution_count": 21,
   "metadata": {},
   "outputs": [
    {
     "data": {
      "image/png": "[encoded data removed]",
      "text/plain": [
       "<Figure size 432x288 with 1 Axes>"
      ]
     },
     "metadata": {
      "needs_background": "light"
     },
     "output_type": "display_data"
    }
   ],
   "source": [
    "# Compute and plot CV error for a range of lambda values\n",
    "\n",
    "alphas = [0.01, 0.03, 0.1, 0.3, 0.5, 1, 5, 10, 20, 30, 40, 50, 70, 100, 200, 300]\n",
    "cv_errors = []\n",
    "for alpha in alphas:\n",
    "    model = Ridge(alpha = alpha)\n",
    "    scores = cross_val_score(model, scaled_X_train, y_train, scoring='neg_mean_squared_error',cv=5)\n",
    "    avg_score = abs(scores).mean()\n",
    "    cv_errors.append(avg_score)\n",
    "\n",
    "plt.plot(cv_errors)\n",
    "plt.xticks(ticks = range(len(alphas)), labels = alphas)\n",
    "plt.show()\n"
   ]
  },
  {
   "cell_type": "markdown",
   "metadata": {},
   "source": [
    "Good. We once again confirm that the ideal lambda is around 30 for ridge regression <br>\n",
    "Now let's plot the same graph for denser values around 30."
   ]
  },
  {
   "cell_type": "code",
   "execution_count": 22,
   "metadata": {},
   "outputs": [
    {
     "data": {
      "image/png": "[encoded data removed]",
      "text/plain": [
       "<Figure size 720x360 with 1 Axes>"
      ]
     },
     "metadata": {
      "needs_background": "light"
     },
     "output_type": "display_data"
    }
   ],
   "source": [
    "# Once again plot CV error values, for many lambdas in the vicinity of 30. \n",
    "\n",
    "alphas = [round (20 + 0.3*i, 2) for i in range (50)]\n",
    "cv_errors = []\n",
    "for alpha in alphas:\n",
    "    model = Ridge(alpha = alpha)\n",
    "    scores = cross_val_score(model, scaled_X_train, y_train, scoring='neg_mean_squared_error',cv=5)\n",
    "    avg_score = abs(scores).mean()\n",
    "    cv_errors.append(avg_score)\n",
    "\n",
    "plt.figure(figsize = (10,5))\n",
    "plt.plot(cv_errors)\n",
    "plt.xticks(ticks = range(len(alphas)), labels = alphas)\n",
    "plt.xticks(rotation = 90)\n",
    "plt.show()"
   ]
  },
  {
   "cell_type": "markdown",
   "metadata": {},
   "source": [
    "<h5> We'll pick lambda = 28 and use this as our model </h5>"
   ]
  },
  {
   "cell_type": "markdown",
   "metadata": {},
   "source": [
    "<h5> Predict and Evaluate </h5>"
   ]
  },
  {
   "cell_type": "code",
   "execution_count": 23,
   "metadata": {},
   "outputs": [
    {
     "data": {
      "text/plain": [
       "(19556.940000540737, 20790.275273469117)"
      ]
     },
     "execution_count": 23,
     "metadata": {},
     "output_type": "execute_result"
    }
   ],
   "source": [
    "model = Ridge (alpha = 28)  # We found lambda = 28 was ideal.\n",
    "model.fit(scaled_X_train, y_train)\n",
    "train_pred_y = model.predict(scaled_X_train)\n",
    "test_pred_y = model.predict(scaled_X_test)\n",
    "\n",
    "# Compute root mean square error for training data and test data\n",
    "train_RMSE = np.sqrt(mean_squared_error(train_pred_y, y_train))\n",
    "test_RMSE = np.sqrt (mean_squared_error(test_pred_y, y_test))\n",
    "\n",
    "train_RMSE, test_RMSE\n"
   ]
  },
  {
   "cell_type": "code",
   "execution_count": 24,
   "metadata": {},
   "outputs": [
    {
     "data": {
      "text/plain": [
       "11.49805794805641"
      ]
     },
     "execution_count": 24,
     "metadata": {},
     "output_type": "execute_result"
    }
   ],
   "source": [
    "# Compute test error as percentage of mean: \n",
    "100*test_RMSE / (df['SalePrice'].mean())"
   ]
  },
  {
   "cell_type": "markdown",
   "metadata": {},
   "source": [
    "<h5> Alright. Using linear ridge regression, we get a test error of 11.5 per cent. Now we'll create a linear lasso model and compare. </h5>"
   ]
  },
  {
   "cell_type": "markdown",
   "metadata": {},
   "source": [
    "Once again, let's begin by plotting training error and CV error for smaller training set sizes. "
   ]
  },
  {
   "cell_type": "code",
   "execution_count": 25,
   "metadata": {},
   "outputs": [
    {
     "name": "stdout",
     "output_type": "stream",
     "text": [
      "training set size: 146 ||||| CV set size: 55\n"
     ]
    }
   ],
   "source": [
    "# Select smaller training and CV sets.\n",
    "\n",
    "X_train, X_dummy, y_train, y_dummy = train_test_split(X, y, test_size=0.95, random_state=101)\n",
    "X_cv, X_test, y_cv, y_test = train_test_split (X_dummy, y_dummy, test_size = 0.98, random_state = 101)\n",
    "print (f'training set size: {len(X_train)} ||||| CV set size: {len(X_cv)}')\n"
   ]
  },
  {
   "cell_type": "code",
   "execution_count": 26,
   "metadata": {},
   "outputs": [],
   "source": [
    "# Scale X values\n",
    "scaler = StandardScaler()\n",
    "scaler.fit(X_train)\n",
    "scaled_X_train = scaler.transform(X_train)\n",
    "scaled_X_cv = scaler.transform(X_cv)\n",
    "scaled_X_test = scaler.transform(X_test)\n"
   ]
  },
  {
   "cell_type": "code",
   "execution_count": 27,
   "metadata": {},
   "outputs": [],
   "source": [
    "from sklearn.linear_model import Lasso, ElasticNet, LassoCV, ElasticNetCV"
   ]
  },
  {
   "cell_type": "code",
   "execution_count": 28,
   "metadata": {},
   "outputs": [
    {
     "data": {
      "image/png": "[encoded data removed]",
      "text/plain": [
       "<Figure size 432x288 with 1 Axes>"
      ]
     },
     "metadata": {
      "needs_background": "light"
     },
     "output_type": "display_data"
    }
   ],
   "source": [
    "# Plot training error and cv error for a range of lambda values\n",
    "\n",
    "alphas = [0.01, 0.1, 1, 5, 10, 30, 100, 200, 500, 1000, 10000]\n",
    "training_errors = []\n",
    "cv_errors = []\n",
    "\n",
    "for alpha in alphas:\n",
    "    lasso_model = Lasso(alpha = alpha, max_iter=10000)          # create linear reg. model, specifying lambda\n",
    "\n",
    "    lasso_model.fit(scaled_X_train, y_train)    # train lin. reg. model to get theta parameters\n",
    "\n",
    "    y_pred_train = lasso_model.predict(scaled_X_train)  # use model to predict for training set\n",
    "    y_pred_cv = lasso_model.predict(scaled_X_cv)        # use model to predict for CV set\n",
    "\n",
    "    MSE_train = mean_squared_error (y_pred_train, y_train)\n",
    "    #RMSE_train = np.sqrt(MSE_train)\n",
    "\n",
    "    MSE_cv = mean_squared_error (y_pred_cv, y_cv)\n",
    "    #RMSE_cv = np.sqrt(MSE_cv)\n",
    "\n",
    "    training_errors.append(MSE_train)\n",
    "    cv_errors.append(MSE_cv)\n",
    "\n",
    "plt.plot(training_errors, label = 'training')\n",
    "plt.plot(cv_errors, label = 'cv')\n",
    "plt.xticks(ticks = range(len(alphas)), labels = alphas)\n",
    "plt.legend()\n",
    "plt.show()\n"
   ]
  },
  {
   "cell_type": "markdown",
   "metadata": {},
   "source": [
    "Interesting. So the cv error reaches its optimum much later with Lasso regularisation than Ridge regularisation. This makes sense, since you are 'punishing' the theta values linearly, not as a function of the squares. "
   ]
  },
  {
   "cell_type": "code",
   "execution_count": 29,
   "metadata": {},
   "outputs": [
    {
     "name": "stdout",
     "output_type": "stream",
     "text": [
      "training set size: 438 ||||| CV set size: 49\n"
     ]
    }
   ],
   "source": [
    "# Select slightly larger training set size.\n",
    "\n",
    "X_train, X_dummy, y_train, y_dummy = train_test_split(X, y, test_size=0.85, random_state=101)\n",
    "X_cv, X_test, y_cv, y_test = train_test_split (X_dummy, y_dummy, test_size = 0.98, random_state = 101)\n",
    "len(X_train), len(X_cv)\n",
    "print (f'training set size: {len(X_train)} ||||| CV set size: {len(X_cv)}')"
   ]
  },
  {
   "cell_type": "code",
   "execution_count": 30,
   "metadata": {},
   "outputs": [],
   "source": [
    "# Scale X values\n",
    "scaler = StandardScaler()\n",
    "scaler.fit(X_train)\n",
    "scaled_X_train = scaler.transform(X_train)\n",
    "scaled_X_cv = scaler.transform(X_cv)\n",
    "scaled_X_test = scaler.transform(X_test)"
   ]
  },
  {
   "cell_type": "code",
   "execution_count": 31,
   "metadata": {},
   "outputs": [
    {
     "name": "stderr",
     "output_type": "stream",
     "text": [
      "/opt/anaconda3/lib/python3.9/site-packages/sklearn/linear_model/_coordinate_descent.py:530: ConvergenceWarning: Objective did not converge. You might want to increase the number of iterations. Duality gap: 2692324909.8346252, tolerance: 299642180.2733224\n",
      "  model = cd_fast.enet_coordinate_descent(\n"
     ]
    },
    {
     "data": {
      "image/png": "[encoded data removed]",
      "text/plain": [
       "<Figure size 432x288 with 1 Axes>"
      ]
     },
     "metadata": {
      "needs_background": "light"
     },
     "output_type": "display_data"
    }
   ],
   "source": [
    "# Plot training error and cv error for a range of lambda values\n",
    "\n",
    "alphas = [0.01, 0.1, 1, 5, 10, 30, 100, 200, 500, 1000, 10000]\n",
    "training_errors = []\n",
    "cv_errors = []\n",
    "\n",
    "for alpha in alphas:\n",
    "    lasso_model = Lasso(alpha = alpha, max_iter=100000)          # create linear reg. model, specifying lambda\n",
    "\n",
    "    lasso_model.fit(scaled_X_train, y_train)    # train lin. reg. model to get theta parameters\n",
    "\n",
    "    y_pred_train = lasso_model.predict(scaled_X_train)  # use model to predict for training set\n",
    "    y_pred_cv = lasso_model.predict(scaled_X_cv)        # use model to predict for CV set\n",
    "\n",
    "    MSE_train = mean_squared_error (y_pred_train, y_train)\n",
    "    #RMSE_train = np.sqrt(MSE_train)\n",
    "\n",
    "    MSE_cv = mean_squared_error (y_pred_cv, y_cv)\n",
    "    #RMSE_cv = np.sqrt(MSE_cv)\n",
    "\n",
    "    training_errors.append(MSE_train)\n",
    "    cv_errors.append(MSE_cv)\n",
    "\n",
    "plt.plot(training_errors, label = 'training')\n",
    "plt.plot(cv_errors, label = 'cv')\n",
    "plt.xticks(ticks = range(len(alphas)), labels = alphas)\n",
    "plt.legend()\n",
    "plt.show()"
   ]
  },
  {
   "cell_type": "markdown",
   "metadata": {},
   "source": [
    "CV error seems to be minimised somewhere between lambda = 100:1000\n",
    "So we'll modify the range of alphas a bit."
   ]
  },
  {
   "cell_type": "code",
   "execution_count": 32,
   "metadata": {},
   "outputs": [
    {
     "name": "stdout",
     "output_type": "stream",
     "text": [
      "training set size: 1023 ||||| CV set size: 190\n"
     ]
    }
   ],
   "source": [
    "# Select another larger training set.\n",
    "\n",
    "X_train, X_dummy, y_train, y_dummy = train_test_split(X, y, test_size=0.65, random_state=101)\n",
    "X_cv, X_test, y_cv, y_test = train_test_split (X_dummy, y_dummy, test_size = 0.9, random_state = 101)\n",
    "len(X_train), len(X_cv)\n",
    "print (f'training set size: {len(X_train)} ||||| CV set size: {len(X_cv)}')"
   ]
  },
  {
   "cell_type": "code",
   "execution_count": 33,
   "metadata": {},
   "outputs": [],
   "source": [
    "# Scale X values\n",
    "scaler = StandardScaler()\n",
    "scaler.fit(X_train)\n",
    "scaled_X_train = scaler.transform(X_train)\n",
    "scaled_X_cv = scaler.transform(X_cv)\n",
    "scaled_X_test = scaler.transform(X_test)"
   ]
  },
  {
   "cell_type": "code",
   "execution_count": 34,
   "metadata": {},
   "outputs": [
    {
     "data": {
      "image/png": "[encoded data removed]",
      "text/plain": [
       "<Figure size 432x288 with 1 Axes>"
      ]
     },
     "metadata": {
      "needs_background": "light"
     },
     "output_type": "display_data"
    }
   ],
   "source": [
    "# Plot training error and cv error for a range of lambda values\n",
    "\n",
    "alphas = list(range(30,1000,30))\n",
    "training_errors = []\n",
    "cv_errors = []\n",
    "\n",
    "for alpha in alphas:\n",
    "    lasso_model = Lasso(alpha = alpha, max_iter=100000)          # create linear reg. model, specifying lambda\n",
    "\n",
    "    lasso_model.fit(scaled_X_train, y_train)    # train lin. reg. model to get theta parameters\n",
    "\n",
    "    y_pred_train = lasso_model.predict(scaled_X_train)  # use model to predict for training set\n",
    "    y_pred_cv = lasso_model.predict(scaled_X_cv)        # use model to predict for CV set\n",
    "\n",
    "    MSE_train = mean_squared_error (y_pred_train, y_train)\n",
    "    #RMSE_train = np.sqrt(MSE_train)\n",
    "\n",
    "    MSE_cv = mean_squared_error (y_pred_cv, y_cv)\n",
    "    #RMSE_cv = np.sqrt(MSE_cv)\n",
    "\n",
    "    training_errors.append(MSE_train)\n",
    "    cv_errors.append(MSE_cv)\n",
    "\n",
    "plt.plot(training_errors, label = 'training')\n",
    "plt.plot(cv_errors, label = 'cv')\n",
    "plt.xticks(ticks = range(len(alphas)), labels = alphas)\n",
    "plt.xticks(rotation = 90)\n",
    "plt.legend()\n",
    "plt.show()"
   ]
  },
  {
   "cell_type": "markdown",
   "metadata": {},
   "source": [
    "It's harder to see visually from the graph where the ideal lambda value lies. The range seems to be somewhere between 60 and 600. "
   ]
  },
  {
   "cell_type": "markdown",
   "metadata": {},
   "source": [
    "Now we will once again use cross_val_score to find the optimum value."
   ]
  },
  {
   "cell_type": "markdown",
   "metadata": {},
   "source": [
    "Once again, cross_val_scores automatically splits the training set into a sub-training-set and cross_val set, so we only need to split our original data into a training set and (final holdout) test set."
   ]
  },
  {
   "cell_type": "code",
   "execution_count": 35,
   "metadata": {},
   "outputs": [],
   "source": [
    "X_train, X_test, y_train, y_test = train_test_split(X, y, test_size=0.1, random_state=101) # Holdout test set size = 10%"
   ]
  },
  {
   "cell_type": "code",
   "execution_count": 36,
   "metadata": {},
   "outputs": [],
   "source": [
    "scaler = StandardScaler()\n",
    "scaler.fit(X_train)\n",
    "scaled_X_train = scaler.transform(X_train)\n",
    "scaled_X_test = scaler.transform(X_test)\n"
   ]
  },
  {
   "cell_type": "code",
   "execution_count": 37,
   "metadata": {},
   "outputs": [
    {
     "data": {
      "image/png": "[encoded data removed]",
      "text/plain": [
       "<Figure size 432x288 with 1 Axes>"
      ]
     },
     "metadata": {
      "needs_background": "light"
     },
     "output_type": "display_data"
    }
   ],
   "source": [
    "# Compute and plot CV error for a range of lambda values from 100 to 600\n",
    "\n",
    "alphas = list(range(60,600,100))\n",
    "cv_errors = []\n",
    "for alpha in alphas:\n",
    "    model = Lasso(alpha = alpha)\n",
    "    scores = cross_val_score(model, scaled_X_train, y_train, scoring='neg_mean_squared_error',cv=5)\n",
    "    avg_score = abs(scores).mean()\n",
    "    cv_errors.append(avg_score)\n",
    "\n",
    "plt.plot(cv_errors)\n",
    "plt.xticks(ticks = range(len(alphas)), labels = alphas)\n",
    "plt.show()\n"
   ]
  },
  {
   "cell_type": "code",
   "execution_count": 38,
   "metadata": {},
   "outputs": [
    {
     "data": {
      "image/png": "[encoded data removed]",
      "text/plain": [
       "<Figure size 432x288 with 1 Axes>"
      ]
     },
     "metadata": {
      "needs_background": "light"
     },
     "output_type": "display_data"
    }
   ],
   "source": [
    "# Make the range of lambda values even narrower.\n",
    "alphas = list(range(60,260,10))\n",
    "cv_errors = []\n",
    "for alpha in alphas:\n",
    "    model = Lasso(alpha = alpha)\n",
    "    scores = cross_val_score(model, scaled_X_train, y_train, scoring='neg_mean_squared_error',cv=5)\n",
    "    avg_score = abs(scores).mean()\n",
    "    cv_errors.append(avg_score)\n",
    "\n",
    "plt.plot(cv_errors)\n",
    "plt.xticks(ticks = range(len(alphas)), labels = alphas)\n",
    "plt.xticks(rotation = 90)\n",
    "plt.show()"
   ]
  },
  {
   "cell_type": "markdown",
   "metadata": {},
   "source": [
    "lambda = 120 seems to be the ideal value for Lasso regularisation."
   ]
  },
  {
   "cell_type": "markdown",
   "metadata": {},
   "source": [
    "<h5> Predict and Evaluate </h5>"
   ]
  },
  {
   "cell_type": "code",
   "execution_count": 39,
   "metadata": {},
   "outputs": [
    {
     "data": {
      "text/plain": [
       "11.369701529187797"
      ]
     },
     "execution_count": 39,
     "metadata": {},
     "output_type": "execute_result"
    }
   ],
   "source": [
    "model = Lasso (alpha = 120)  # We found lambda = 28 was ideal.\n",
    "model.fit(scaled_X_train, y_train)\n",
    "train_pred_y = model.predict(scaled_X_train)\n",
    "test_pred_y = model.predict(scaled_X_test)\n",
    "\n",
    "# Compute root mean square error for training data and test data\n",
    "train_RMSE = np.sqrt(mean_squared_error(train_pred_y, y_train))\n",
    "test_RMSE = np.sqrt (mean_squared_error(test_pred_y, y_test))\n",
    "\n",
    "train_RMSE, test_RMSE\n",
    "\n",
    "# Compute test error as percentage of mean: \n",
    "100*test_RMSE / (df['SalePrice'].mean())\n"
   ]
  },
  {
   "cell_type": "markdown",
   "metadata": {},
   "source": [
    "The test error with Ridge regularisation was 11.50%. So we have a very very mild improvement. <br> <br>\n",
    "However, Lasso regularisation is still preferable, since it will eliminate many of the theta coefficients."
   ]
  },
  {
   "cell_type": "code",
   "execution_count": 40,
   "metadata": {},
   "outputs": [
    {
     "data": {
      "text/plain": [
       "array([ 6.91210436e+02,  4.85397629e+03,  1.03258341e+04,  6.08219300e+03,\n",
       "        1.11982650e+04,  1.99901087e+03,  5.24880347e+03,  9.42341711e+03,\n",
       "        1.82000841e+03, -0.00000000e+00,  8.86448827e+03,  0.00000000e+00,\n",
       "        2.87059378e+03, -8.92463089e+02,  2.81918709e+04,  5.83856183e+02,\n",
       "       -1.66670739e+02,  1.28230352e+03,  8.97910805e+02, -3.48503995e+03,\n",
       "       -2.19253054e+03,  0.00000000e+00,  2.31955071e+03, -0.00000000e+00,\n",
       "        2.21716781e+03,  3.23606128e+03,  1.01051788e+03,  2.04473243e+02,\n",
       "        1.87954443e+02, -0.00000000e+00,  2.17094088e+03,  1.81711916e+03,\n",
       "        1.63591158e+02, -3.19340783e+02, -5.25064335e+02, -4.58863469e+02,\n",
       "       -1.12963298e+03,  0.00000000e+00, -2.40319966e+02,  1.55717264e+03,\n",
       "        1.65876390e+03,  6.24906228e+02,  7.67087423e+02,  3.82817405e+02,\n",
       "       -0.00000000e+00,  1.17958953e+03, -0.00000000e+00, -0.00000000e+00,\n",
       "        2.59106822e+02, -2.13854567e+03, -4.25238540e+02,  0.00000000e+00,\n",
       "        0.00000000e+00,  0.00000000e+00,  5.26289366e+01, -1.69386143e+03,\n",
       "        9.27693055e+02,  4.28550248e+02, -0.00000000e+00,  3.59225972e+02,\n",
       "        1.09016456e+03, -8.34152393e+02,  3.01341128e+02, -2.93729717e+02,\n",
       "       -2.49041189e+02,  1.31281811e+03, -3.38223249e+02, -0.00000000e+00,\n",
       "        5.87521389e+02,  6.53929036e+02, -1.85928091e+03,  7.99602633e+02,\n",
       "        1.18356938e+03,  8.88015276e+02, -2.37093866e+02, -1.26901217e+02,\n",
       "        2.43624167e+03, -9.15649446e+02, -7.38049006e+02,  5.76181004e+02,\n",
       "        2.97186860e+03,  0.00000000e+00,  2.00179684e+01,  4.97551664e+02,\n",
       "       -1.07490513e+03, -8.57786806e+02,  1.52580522e+03, -1.33535444e+03,\n",
       "        4.45915675e+03,  4.88099947e+03, -8.61407914e+02, -3.91279035e+02,\n",
       "        5.31935031e+02, -2.44917027e+02,  2.71859379e+03,  5.06560161e+03,\n",
       "       -4.27285050e+02, -9.05418894e+02,  4.83655957e+02,  3.70335217e+03,\n",
       "        1.14784176e+03,  1.88799083e+03, -2.45593620e+02,  6.64176201e+02,\n",
       "       -2.66357974e+01, -2.63901885e+01, -4.91112138e+02,  0.00000000e+00,\n",
       "        1.91279939e+03,  0.00000000e+00, -4.08789301e+02,  0.00000000e+00,\n",
       "        2.08706611e+02, -8.90798629e+02, -2.69993336e+02, -3.63060744e+03,\n",
       "       -3.89398626e+03,  0.00000000e+00,  4.49548198e+02, -4.81936440e+02,\n",
       "       -1.50012105e+02, -6.61235934e+02,  0.00000000e+00,  0.00000000e+00,\n",
       "       -0.00000000e+00, -0.00000000e+00,  2.23889886e+02, -5.46907808e+02,\n",
       "       -0.00000000e+00,  9.69318783e+02,  5.39566113e+02, -0.00000000e+00,\n",
       "       -3.89777175e+02, -3.04109105e+02,  3.58013086e+03,  0.00000000e+00,\n",
       "        0.00000000e+00,  2.73921456e+03, -0.00000000e+00,  6.05722011e+02,\n",
       "       -3.63532306e+02, -4.18520267e+02,  4.83240761e+02, -3.74327646e+02,\n",
       "        7.48250615e+02, -1.16682765e+02,  1.59631114e+02,  0.00000000e+00,\n",
       "       -0.00000000e+00, -0.00000000e+00,  1.48453064e+02,  0.00000000e+00,\n",
       "       -2.12202398e+02, -0.00000000e+00,  0.00000000e+00,  0.00000000e+00,\n",
       "        7.48305290e+02,  0.00000000e+00, -3.47439252e+02, -3.05553930e+02,\n",
       "        3.50052544e+01, -3.47324386e+02,  0.00000000e+00,  2.65409460e+02,\n",
       "       -0.00000000e+00, -1.89398748e+02, -0.00000000e+00, -1.26328241e+03,\n",
       "        2.91788262e+03,  1.72887813e+03, -1.37342101e+03, -8.99393084e+03,\n",
       "       -1.04379968e+04, -5.02315808e+02,  0.00000000e+00, -3.76708963e+02,\n",
       "        0.00000000e+00, -2.21302213e+02,  1.34145231e+03, -0.00000000e+00,\n",
       "        6.29817420e+02, -5.36880730e+02, -1.35741470e+03, -6.68612818e+03,\n",
       "        0.00000000e+00, -8.64646538e+01, -5.49480541e+03, -0.00000000e+00,\n",
       "        0.00000000e+00,  0.00000000e+00,  3.46443897e+02, -0.00000000e+00,\n",
       "        3.32057825e+03, -1.64992738e+03, -2.37252533e+03, -0.00000000e+00,\n",
       "       -1.10039151e+02,  1.12243233e+03, -7.85161394e+02,  0.00000000e+00,\n",
       "       -4.82272672e+02,  1.06139630e+03, -3.52965834e+02,  1.14604057e+03,\n",
       "       -5.89634429e+02, -0.00000000e+00, -5.43728810e+02,  0.00000000e+00,\n",
       "        0.00000000e+00, -2.75848547e+02, -3.73926450e+02, -8.20412567e+02,\n",
       "        2.87685021e+02, -4.96286834e+02, -6.06524281e+02, -3.15314562e+02,\n",
       "       -1.36807052e+03, -4.75565767e+02,  0.00000000e+00, -0.00000000e+00,\n",
       "        0.00000000e+00, -0.00000000e+00, -2.75705416e+03, -9.25955868e+03,\n",
       "        2.56455378e+02, -9.22246087e+03, -0.00000000e+00,  1.05968024e+03,\n",
       "        1.00680961e+03,  0.00000000e+00, -2.75149420e+02, -7.77538951e+02,\n",
       "        4.42604876e+03, -3.58222247e+02, -0.00000000e+00,  5.45918135e+02,\n",
       "        0.00000000e+00, -6.20943134e+02, -0.00000000e+00, -0.00000000e+00,\n",
       "        5.87087727e+02, -2.58802242e+02,  3.52499954e+02,  1.05524276e+03,\n",
       "        0.00000000e+00, -1.51380291e+03, -0.00000000e+00, -1.33975473e+02,\n",
       "        8.10219691e+02,  0.00000000e+00, -2.75302142e+02, -5.80836952e+02,\n",
       "       -4.82174039e+01, -8.20296797e+01,  0.00000000e+00, -9.46607101e+01,\n",
       "        0.00000000e+00, -1.31835474e+02,  0.00000000e+00,  4.56115346e+01,\n",
       "        1.12695182e+03,  2.07713458e+02, -2.88906698e+02,  8.49411185e+00,\n",
       "        4.73648303e+03,  5.65317962e+02, -0.00000000e+00,  1.74798273e+01,\n",
       "        8.27319536e+02,  4.33207960e+02,  0.00000000e+00,  2.24516440e+03,\n",
       "        6.54685249e+02])"
      ]
     },
     "execution_count": 40,
     "metadata": {},
     "output_type": "execute_result"
    }
   ],
   "source": [
    "#Check theta coefficients\n",
    "model.coef_"
   ]
  },
  {
   "cell_type": "code",
   "execution_count": 41,
   "metadata": {},
   "outputs": [
    {
     "data": {
      "text/plain": [
       "(273, 203)"
      ]
     },
     "execution_count": 41,
     "metadata": {},
     "output_type": "execute_result"
    }
   ],
   "source": [
    "len(model.coef_), np.count_nonzero(model.coef_)"
   ]
  },
  {
   "cell_type": "markdown",
   "metadata": {},
   "source": [
    "So out of the 273 possible theta coefficients, our Lasso Linear Regression model eliminates 70 thetas! "
   ]
  },
  {
   "cell_type": "markdown",
   "metadata": {},
   "source": [
    "<h5> Plan now: <br><br>\n",
    "Perform ElasticNet regularisation. (So check one more linear case) <br>\n",
    "Determine optimal polynomial degree. <br>\n",
    "Repeat prediction + evaluation for Ridge, Lasso, and ElasticNet regressions. </h5>"
   ]
  },
  {
   "cell_type": "code",
   "execution_count": 42,
   "metadata": {},
   "outputs": [],
   "source": [
    "# Train | Test split\n",
    "X_train, X_test, y_train, y_test = train_test_split(X, y, test_size=0.1, random_state=101) # Holdout test set size = 10%\n",
    "\n",
    "# Scale\n",
    "scaler = StandardScaler()\n",
    "scaler.fit(X_train)\n",
    "scaled_X_train = scaler.transform(X_train)\n",
    "scaled_X_test = scaler.transform(X_test)\n"
   ]
  },
  {
   "cell_type": "code",
   "execution_count": 43,
   "metadata": {},
   "outputs": [],
   "source": [
    "from sklearn.linear_model import ElasticNet\n",
    "from sklearn.model_selection import GridSearchCV"
   ]
  },
  {
   "cell_type": "code",
   "execution_count": 44,
   "metadata": {},
   "outputs": [],
   "source": [
    "# Start by creating an instance of ElasticNet\n",
    "\n",
    "base_elastic_net = ElasticNet(max_iter = 50000)"
   ]
  },
  {
   "cell_type": "code",
   "execution_count": 45,
   "metadata": {},
   "outputs": [],
   "source": [
    "# We will pass in a range of lambda and r values ('alpha' and 'l1_ratio') into a grid search. \n",
    "# Note: l1_ratio –> 0 means Ridge; l1_ratio –> 1 means Lasso\n",
    "\n",
    "# Grid parameters\n",
    "param_grid = {'alpha': [0.01, 0.1, 0.3, 0.5, 1, 3, 6, 10, 30, 50, 100, 300], \n",
    "              'l1_ratio': [0.01, 0.03, 0.06, 0.1, 0.3, 0.5, 0.7, 0.9, 0.95, 0.99, 1]\n",
    "                }\n",
    "grid_model = GridSearchCV(estimator= base_elastic_net, \n",
    "                          param_grid = param_grid, \n",
    "                          scoring = 'neg_mean_squared_error', \n",
    "                          cv = 2,\n",
    "                          verbose = 0)\n",
    "\n",
    "\n"
   ]
  },
  {
   "cell_type": "code",
   "execution_count": 46,
   "metadata": {},
   "outputs": [
    {
     "name": "stderr",
     "output_type": "stream",
     "text": [
      "/opt/anaconda3/lib/python3.9/site-packages/sklearn/linear_model/_coordinate_descent.py:530: ConvergenceWarning: Objective did not converge. You might want to increase the number of iterations. Duality gap: 68322039387.85443, tolerance: 799082441.8056953\n",
      "  model = cd_fast.enet_coordinate_descent(\n",
      "/opt/anaconda3/lib/python3.9/site-packages/sklearn/linear_model/_coordinate_descent.py:530: ConvergenceWarning: Objective did not converge. You might want to increase the number of iterations. Duality gap: 126050768198.80307, tolerance: 916636759.0980848\n",
      "  model = cd_fast.enet_coordinate_descent(\n",
      "/opt/anaconda3/lib/python3.9/site-packages/sklearn/linear_model/_coordinate_descent.py:530: ConvergenceWarning: Objective did not converge. You might want to increase the number of iterations. Duality gap: 15673519476.961517, tolerance: 799082441.8056953\n",
      "  model = cd_fast.enet_coordinate_descent(\n",
      "/opt/anaconda3/lib/python3.9/site-packages/sklearn/linear_model/_coordinate_descent.py:530: ConvergenceWarning: Objective did not converge. You might want to increase the number of iterations. Duality gap: 25452165068.109985, tolerance: 916636759.0980848\n",
      "  model = cd_fast.enet_coordinate_descent(\n",
      "/opt/anaconda3/lib/python3.9/site-packages/sklearn/linear_model/_coordinate_descent.py:530: ConvergenceWarning: Objective did not converge. You might want to increase the number of iterations. Duality gap: 15716303430.704407, tolerance: 799082441.8056953\n",
      "  model = cd_fast.enet_coordinate_descent(\n"
     ]
    },
    {
     "data": {
      "text/plain": [
       "GridSearchCV(cv=2, estimator=ElasticNet(max_iter=50000),\n",
       "             param_grid={'alpha': [0.01, 0.1, 0.3, 0.5, 1, 3, 6, 10, 30, 50,\n",
       "                                   100, 300],\n",
       "                         'l1_ratio': [0.01, 0.03, 0.06, 0.1, 0.3, 0.5, 0.7, 0.9,\n",
       "                                      0.95, 0.99, 1]},\n",
       "             scoring='neg_mean_squared_error')"
      ]
     },
     "execution_count": 46,
     "metadata": {},
     "output_type": "execute_result"
    }
   ],
   "source": [
    "grid_model.fit(scaled_X_train, y_train)"
   ]
  },
  {
   "cell_type": "code",
   "execution_count": 47,
   "metadata": {},
   "outputs": [
    {
     "data": {
      "text/plain": [
       "ElasticNet(alpha=300, l1_ratio=1, max_iter=50000)"
      ]
     },
     "execution_count": 47,
     "metadata": {},
     "output_type": "execute_result"
    }
   ],
   "source": [
    "grid_model.best_estimator_"
   ]
  },
  {
   "cell_type": "code",
   "execution_count": 48,
   "metadata": {},
   "outputs": [
    {
     "data": {
      "text/html": [
       "<div>\n",
       "<style scoped>\n",
       "    .dataframe tbody tr th:only-of-type {\n",
       "        vertical-align: middle;\n",
       "    }\n",
       "\n",
       "    .dataframe tbody tr th {\n",
       "        vertical-align: top;\n",
       "    }\n",
       "\n",
       "    .dataframe thead th {\n",
       "        text-align: right;\n",
       "    }\n",
       "</style>\n",
       "<table border=\"1\" class=\"dataframe\">\n",
       "  <thead>\n",
       "    <tr style=\"text-align: right;\">\n",
       "      <th></th>\n",
       "      <th>mean_fit_time</th>\n",
       "      <th>std_fit_time</th>\n",
       "      <th>mean_score_time</th>\n",
       "      <th>std_score_time</th>\n",
       "      <th>param_alpha</th>\n",
       "      <th>param_l1_ratio</th>\n",
       "      <th>params</th>\n",
       "      <th>split0_test_score</th>\n",
       "      <th>split1_test_score</th>\n",
       "      <th>mean_test_score</th>\n",
       "      <th>std_test_score</th>\n",
       "      <th>rank_test_score</th>\n",
       "    </tr>\n",
       "  </thead>\n",
       "  <tbody>\n",
       "    <tr>\n",
       "      <th>131</th>\n",
       "      <td>0.034369</td>\n",
       "      <td>0.002594</td>\n",
       "      <td>0.000477</td>\n",
       "      <td>0.000015</td>\n",
       "      <td>300</td>\n",
       "      <td>1</td>\n",
       "      <td>{'alpha': 300, 'l1_ratio': 1}</td>\n",
       "      <td>-5.984800e+08</td>\n",
       "      <td>-4.686068e+08</td>\n",
       "      <td>-5.335434e+08</td>\n",
       "      <td>6.493659e+07</td>\n",
       "      <td>1</td>\n",
       "    </tr>\n",
       "    <tr>\n",
       "      <th>120</th>\n",
       "      <td>0.091497</td>\n",
       "      <td>0.002646</td>\n",
       "      <td>0.000593</td>\n",
       "      <td>0.000046</td>\n",
       "      <td>100</td>\n",
       "      <td>1</td>\n",
       "      <td>{'alpha': 100, 'l1_ratio': 1}</td>\n",
       "      <td>-5.927216e+08</td>\n",
       "      <td>-4.919698e+08</td>\n",
       "      <td>-5.423457e+08</td>\n",
       "      <td>5.037590e+07</td>\n",
       "      <td>2</td>\n",
       "    </tr>\n",
       "    <tr>\n",
       "      <th>52</th>\n",
       "      <td>0.124292</td>\n",
       "      <td>0.001314</td>\n",
       "      <td>0.000957</td>\n",
       "      <td>0.000070</td>\n",
       "      <td>1</td>\n",
       "      <td>0.95</td>\n",
       "      <td>{'alpha': 1, 'l1_ratio': 0.95}</td>\n",
       "      <td>-6.068779e+08</td>\n",
       "      <td>-4.930377e+08</td>\n",
       "      <td>-5.499578e+08</td>\n",
       "      <td>5.692011e+07</td>\n",
       "      <td>3</td>\n",
       "    </tr>\n",
       "    <tr>\n",
       "      <th>40</th>\n",
       "      <td>0.148612</td>\n",
       "      <td>0.008461</td>\n",
       "      <td>0.000732</td>\n",
       "      <td>0.000096</td>\n",
       "      <td>0.5</td>\n",
       "      <td>0.9</td>\n",
       "      <td>{'alpha': 0.5, 'l1_ratio': 0.9}</td>\n",
       "      <td>-6.069067e+08</td>\n",
       "      <td>-4.931345e+08</td>\n",
       "      <td>-5.500206e+08</td>\n",
       "      <td>5.688613e+07</td>\n",
       "      <td>4</td>\n",
       "    </tr>\n",
       "    <tr>\n",
       "      <th>16</th>\n",
       "      <td>0.265973</td>\n",
       "      <td>0.000595</td>\n",
       "      <td>0.003857</td>\n",
       "      <td>0.002986</td>\n",
       "      <td>0.1</td>\n",
       "      <td>0.5</td>\n",
       "      <td>{'alpha': 0.1, 'l1_ratio': 0.5}</td>\n",
       "      <td>-6.069302e+08</td>\n",
       "      <td>-4.932123e+08</td>\n",
       "      <td>-5.500713e+08</td>\n",
       "      <td>5.685896e+07</td>\n",
       "      <td>5</td>\n",
       "    </tr>\n",
       "    <tr>\n",
       "      <th>...</th>\n",
       "      <td>...</td>\n",
       "      <td>...</td>\n",
       "      <td>...</td>\n",
       "      <td>...</td>\n",
       "      <td>...</td>\n",
       "      <td>...</td>\n",
       "      <td>...</td>\n",
       "      <td>...</td>\n",
       "      <td>...</td>\n",
       "      <td>...</td>\n",
       "      <td>...</td>\n",
       "      <td>...</td>\n",
       "    </tr>\n",
       "    <tr>\n",
       "      <th>125</th>\n",
       "      <td>0.003893</td>\n",
       "      <td>0.000272</td>\n",
       "      <td>0.000527</td>\n",
       "      <td>0.000022</td>\n",
       "      <td>300</td>\n",
       "      <td>0.3</td>\n",
       "      <td>{'alpha': 300, 'l1_ratio': 0.3}</td>\n",
       "      <td>-6.289992e+09</td>\n",
       "      <td>-5.400496e+09</td>\n",
       "      <td>-5.845244e+09</td>\n",
       "      <td>4.447478e+08</td>\n",
       "      <td>128</td>\n",
       "    </tr>\n",
       "    <tr>\n",
       "      <th>124</th>\n",
       "      <td>0.004054</td>\n",
       "      <td>0.000805</td>\n",
       "      <td>0.000497</td>\n",
       "      <td>0.000052</td>\n",
       "      <td>300</td>\n",
       "      <td>0.1</td>\n",
       "      <td>{'alpha': 300, 'l1_ratio': 0.1}</td>\n",
       "      <td>-6.426772e+09</td>\n",
       "      <td>-5.535954e+09</td>\n",
       "      <td>-5.981363e+09</td>\n",
       "      <td>4.454092e+08</td>\n",
       "      <td>129</td>\n",
       "    </tr>\n",
       "    <tr>\n",
       "      <th>123</th>\n",
       "      <td>0.004296</td>\n",
       "      <td>0.000809</td>\n",
       "      <td>0.000883</td>\n",
       "      <td>0.000407</td>\n",
       "      <td>300</td>\n",
       "      <td>0.06</td>\n",
       "      <td>{'alpha': 300, 'l1_ratio': 0.06}</td>\n",
       "      <td>-6.447696e+09</td>\n",
       "      <td>-5.556705e+09</td>\n",
       "      <td>-6.002201e+09</td>\n",
       "      <td>4.454957e+08</td>\n",
       "      <td>130</td>\n",
       "    </tr>\n",
       "    <tr>\n",
       "      <th>122</th>\n",
       "      <td>0.004313</td>\n",
       "      <td>0.000386</td>\n",
       "      <td>0.000709</td>\n",
       "      <td>0.000164</td>\n",
       "      <td>300</td>\n",
       "      <td>0.03</td>\n",
       "      <td>{'alpha': 300, 'l1_ratio': 0.03}</td>\n",
       "      <td>-6.462344e+09</td>\n",
       "      <td>-5.571236e+09</td>\n",
       "      <td>-6.016790e+09</td>\n",
       "      <td>4.455539e+08</td>\n",
       "      <td>131</td>\n",
       "    </tr>\n",
       "    <tr>\n",
       "      <th>121</th>\n",
       "      <td>0.004124</td>\n",
       "      <td>0.000671</td>\n",
       "      <td>0.000572</td>\n",
       "      <td>0.000084</td>\n",
       "      <td>300</td>\n",
       "      <td>0.01</td>\n",
       "      <td>{'alpha': 300, 'l1_ratio': 0.01}</td>\n",
       "      <td>-6.471653e+09</td>\n",
       "      <td>-5.580473e+09</td>\n",
       "      <td>-6.026063e+09</td>\n",
       "      <td>4.455899e+08</td>\n",
       "      <td>132</td>\n",
       "    </tr>\n",
       "  </tbody>\n",
       "</table>\n",
       "<p>132 rows × 12 columns</p>\n",
       "</div>"
      ],
      "text/plain": [
       "     mean_fit_time  std_fit_time  mean_score_time  std_score_time param_alpha  \\\n",
       "131       0.034369      0.002594         0.000477        0.000015         300   \n",
       "120       0.091497      0.002646         0.000593        0.000046         100   \n",
       "52        0.124292      0.001314         0.000957        0.000070           1   \n",
       "40        0.148612      0.008461         0.000732        0.000096         0.5   \n",
       "16        0.265973      0.000595         0.003857        0.002986         0.1   \n",
       "..             ...           ...              ...             ...         ...   \n",
       "125       0.003893      0.000272         0.000527        0.000022         300   \n",
       "124       0.004054      0.000805         0.000497        0.000052         300   \n",
       "123       0.004296      0.000809         0.000883        0.000407         300   \n",
       "122       0.004313      0.000386         0.000709        0.000164         300   \n",
       "121       0.004124      0.000671         0.000572        0.000084         300   \n",
       "\n",
       "    param_l1_ratio                            params  split0_test_score  \\\n",
       "131              1     {'alpha': 300, 'l1_ratio': 1}      -5.984800e+08   \n",
       "120              1     {'alpha': 100, 'l1_ratio': 1}      -5.927216e+08   \n",
       "52            0.95    {'alpha': 1, 'l1_ratio': 0.95}      -6.068779e+08   \n",
       "40             0.9   {'alpha': 0.5, 'l1_ratio': 0.9}      -6.069067e+08   \n",
       "16             0.5   {'alpha': 0.1, 'l1_ratio': 0.5}      -6.069302e+08   \n",
       "..             ...                               ...                ...   \n",
       "125            0.3   {'alpha': 300, 'l1_ratio': 0.3}      -6.289992e+09   \n",
       "124            0.1   {'alpha': 300, 'l1_ratio': 0.1}      -6.426772e+09   \n",
       "123           0.06  {'alpha': 300, 'l1_ratio': 0.06}      -6.447696e+09   \n",
       "122           0.03  {'alpha': 300, 'l1_ratio': 0.03}      -6.462344e+09   \n",
       "121           0.01  {'alpha': 300, 'l1_ratio': 0.01}      -6.471653e+09   \n",
       "\n",
       "     split1_test_score  mean_test_score  std_test_score  rank_test_score  \n",
       "131      -4.686068e+08    -5.335434e+08    6.493659e+07                1  \n",
       "120      -4.919698e+08    -5.423457e+08    5.037590e+07                2  \n",
       "52       -4.930377e+08    -5.499578e+08    5.692011e+07                3  \n",
       "40       -4.931345e+08    -5.500206e+08    5.688613e+07                4  \n",
       "16       -4.932123e+08    -5.500713e+08    5.685896e+07                5  \n",
       "..                 ...              ...             ...              ...  \n",
       "125      -5.400496e+09    -5.845244e+09    4.447478e+08              128  \n",
       "124      -5.535954e+09    -5.981363e+09    4.454092e+08              129  \n",
       "123      -5.556705e+09    -6.002201e+09    4.454957e+08              130  \n",
       "122      -5.571236e+09    -6.016790e+09    4.455539e+08              131  \n",
       "121      -5.580473e+09    -6.026063e+09    4.455899e+08              132  \n",
       "\n",
       "[132 rows x 12 columns]"
      ]
     },
     "execution_count": 48,
     "metadata": {},
     "output_type": "execute_result"
    }
   ],
   "source": [
    "pd.DataFrame(grid_model.cv_results_).sort_values('rank_test_score')"
   ]
  },
  {
   "cell_type": "markdown",
   "metadata": {},
   "source": [
    "<h5> Use best model from grid search for prediction </h5>"
   ]
  },
  {
   "cell_type": "code",
   "execution_count": 49,
   "metadata": {},
   "outputs": [],
   "source": [
    "y_test_pred = grid_model.predict(scaled_X_test)\n"
   ]
  },
  {
   "cell_type": "markdown",
   "metadata": {},
   "source": [
    "Evaluation of prediction"
   ]
  },
  {
   "cell_type": "code",
   "execution_count": 50,
   "metadata": {},
   "outputs": [
    {
     "data": {
      "text/plain": [
       "(20763.091450857577, 11.483023939919152)"
      ]
     },
     "execution_count": 50,
     "metadata": {},
     "output_type": "execute_result"
    }
   ],
   "source": [
    "RMSE = np.sqrt(mean_squared_error(y_test_pred, y_test))\n",
    "RMSE, 100*(RMSE) / df['SalePrice'].mean()"
   ]
  },
  {
   "cell_type": "markdown",
   "metadata": {},
   "source": [
    "Accuracy is actually lower than when we performed only Lasso with lambda = 120."
   ]
  },
  {
   "cell_type": "markdown",
   "metadata": {},
   "source": [
    "<h5> Summary so far </h5>\n",
    "\n",
    "For linear regression (with no polynomial features), our most accurate prediction came with Lasso regularisation with lambda = 120. The root mean squared error was 11.37% of the mean sales price. <br><br>\n",
    "\n",
    "Now we will try a polynomial fit"
   ]
  },
  {
   "cell_type": "markdown",
   "metadata": {},
   "source": [
    "<h5> Search for optimal polynomial degree </h5>"
   ]
  },
  {
   "cell_type": "markdown",
   "metadata": {},
   "source": [
    "<h5> Outline </h5>\n",
    "\n",
    "0. Select relatively small training set size (around 150 samples) <br>\n",
    "1. Choose polynomial degree d from [2, 3, 4, 5] <br>\n",
    "2. Pick regression type from [Ridge, Lasso, ElasticNet] <br>\n",
    "3a. Plot training error vs CV error for the different lambda values. Get a sense of optimal range for lambda. <br>\n",
    "3b. Increase training set size and plot training error vs CV error. Find optimal lambda value. <br>\n",
    "3b. Predict on test set. <br>\n",
    "3c. Compute test set error. <br>\n",
    "4. Find optimal model for polynomial degree d. Then repeat for other polynomial degrees. <br>\n"
   ]
  },
  {
   "cell_type": "code",
   "execution_count": null,
   "metadata": {},
   "outputs": [],
   "source": []
  }
 ],
 "metadata": {
  "interpreter": {
   "hash": "40d3a090f54c6569ab1632332b64b2c03c39dcf918b08424e98f38b5ae0af88f"
  },
  "kernelspec": {
   "display_name": "Python 3.9.7 ('base')",
   "language": "python",
   "name": "python3"
  },
  "language_info": {
   "codemirror_mode": {
    "name": "ipython",
    "version": 3
   },
   "file_extension": ".py",
   "mimetype": "text/x-python",
   "name": "python",
   "nbconvert_exporter": "python",
   "pygments_lexer": "ipython3",
   "version": "3.9.7"
  },
  "orig_nbformat": 4
 },
 "nbformat": 4,
 "nbformat_minor": 2
}
